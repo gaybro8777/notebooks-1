{
 "cells": [
  {
   "cell_type": "markdown",
   "metadata": {},
   "source": [
    "--------------------------------------------------------------------------------\n",
    "title: Discovering Continuations with Typed Holes\n",
    "published: 2017-05-22\n",
    "tags: haskell, programming, monads\n",
    "--------------------------------------------------------------------------------\n",
    "\n",
    "I've been trying to wrap my head around continuations for a while. I was reading [David Luposchainsky's excellent article](https://github.com/quchen/articles/blob/master/cont_monad.md) on them and playing with his definitions in an IHaskell notebook when I found that typed holes are an excellent hammer to attack this particular nail with.\n",
    "\n",
    "If you haven't encountered them before, [typed holes](https://wiki.haskell.org/GHC/Typed_holes) are a feature where you put one or more variables starting with `_` on the right hand side of a definition to get GHC to tell you the type of the value that fits in that hole, and you can narrow the hole as necessary to get the type of a subexpression until you have enough information to complete the definition. I like to think of this as a way of collaboratively filling in a definition with the compiler, instead of my usual approach which is to write a definition, listen carefully to GHC's complaints, and amend my definition accordingly. Typed holes are fully supported by GHCi and the full suite of editor integrations, but I personally find the edit/reload/squint cycle more tedious than coming up with the definition in IHaskell and then moving it to a module and adding type signatures after I'm satisfied that it works.\n",
    "\n",
    "IHaskell has HLint integration and will suggest corrections for my intermediate cells unless I turn that off:"
   ]
  },
  {
   "cell_type": "code",
   "execution_count": 1,
   "metadata": {},
   "outputs": [],
   "source": [
    ":option no-lint"
   ]
  },
  {
   "cell_type": "markdown",
   "metadata": {},
   "source": [
    "There's a useful GHC extension called `InstanceSigs` that will allow me to annotate my typeclass instances with their type signatures, so I'll turn that on:"
   ]
  },
  {
   "cell_type": "code",
   "execution_count": 2,
   "metadata": {},
   "outputs": [],
   "source": [
    "{-# LANGUAGE InstanceSigs #-}"
   ]
  },
  {
   "cell_type": "markdown",
   "metadata": {},
   "source": [
    "I think his type definition makes an excellent starting point:"
   ]
  },
  {
   "cell_type": "code",
   "execution_count": 3,
   "metadata": {},
   "outputs": [],
   "source": [
    "newtype Cont r a = Cont { (>>-) :: (a -> r) -> r }"
   ]
  },
  {
   "cell_type": "markdown",
   "metadata": {},
   "source": [
    "This defines a type `Cont` with an infix constructor `>>-` (that looks suspiciously similar to `>>=`) that takes a function from `a` to `r` and provides an `r`. One intuition for what this means is that a value of this type knows about an `a` but for whatever reason refuses to be upfront about it and demands to know what you're going to do with it and then does it for you, providing you with a final result `r`. Another intuition is that this is a generalisation of callbacks: a value of this type expects a callback to utilise the `a`. Anyway, on to my favourite part of working with mysterious data types: defining `Functor`, `Applicative`, and `Monad` instances for them! If you've done this before, you'll know that these typeclasses have certain laws that their instances are meant to obey, and it turns out that this type is polymorphic enough that we can just follow the typed holes and the resulting definitions will be lawful. You don't have to take my word for it and should verify this for yourself, but I won't be discussing the laws here. Let's begin!"
   ]
  },
  {
   "cell_type": "code",
   "execution_count": 4,
   "metadata": {},
   "outputs": [
    {
     "ename": "",
     "evalue": "",
     "output_type": "error",
     "traceback": [
      "<interactive>:3:19: error:\n    • Found hole: _ :: Cont r b\n      Where: ‘b’ is a rigid type variable bound by\n               the type signature for:\n                 fmap :: forall a b. (a -> b) -> Cont r a -> Cont r b\n               at <interactive>:2:13-44\n             ‘r’ is a rigid type variable bound by\n               the instance declaration\n               at <interactive>:1:10-25\n    • In the expression: _\n      In an equation for ‘fmap’: fmap f cont = _\n      In the instance declaration for ‘Functor (Cont r)’\n    • Relevant bindings include\n        cont :: Cont r a (bound at <interactive>:3:12)\n        f :: a -> b (bound at <interactive>:3:10)\n        fmap :: (a -> b) -> Cont r a -> Cont r b (bound at <interactive>:3:5)"
     ]
    }
   ],
   "source": [
    "instance Functor (Cont r) where\n",
    "    fmap :: (a -> b) -> Cont r a -> Cont r b\n",
    "    fmap f cont = _"
   ]
  },
  {
   "cell_type": "markdown",
   "metadata": {},
   "source": [
    "We didn't really need a typed hole to tell us this, but at least we know what we have to work with. We know we have to provide a `Cont` value, so let's narrow our typed hole that way."
   ]
  },
  {
   "cell_type": "code",
   "execution_count": 5,
   "metadata": {},
   "outputs": [
    {
     "ename": "",
     "evalue": "",
     "output_type": "error",
     "traceback": [
      "<interactive>:3:26: error:\n    • Found hole: _ :: (b -> r) -> r\n      Where: ‘b’ is a rigid type variable bound by\n               the type signature for:\n                 fmap :: forall a b. (a -> b) -> Cont r a -> Cont r b\n               at <interactive>:2:13-44\n             ‘r’ is a rigid type variable bound by\n               the instance declaration\n               at <interactive>:1:10-25\n    • In the second argument of ‘($)’, namely ‘_’\n      In the expression: Cont $ _\n      In an equation for ‘fmap’: fmap f cont = Cont $ _\n    • Relevant bindings include\n        cont :: Cont r a (bound at <interactive>:3:12)\n        f :: a -> b (bound at <interactive>:3:10)\n        fmap :: (a -> b) -> Cont r a -> Cont r b (bound at <interactive>:3:5)"
     ]
    }
   ],
   "source": [
    "instance Functor (Cont r) where\n",
    "    fmap :: (a -> b) -> Cont r a -> Cont r b\n",
    "    fmap f cont = Cont $ _"
   ]
  },
  {
   "cell_type": "markdown",
   "metadata": {},
   "source": [
    "The type of our hole is more helpful here. Now we know (if we were previously uncertain) that we somehow need to use `f` to turn the `a` into a `b`. We also know that `Cont` takes a parameter, let's add that in and see if it helps."
   ]
  },
  {
   "cell_type": "code",
   "execution_count": 6,
   "metadata": {},
   "outputs": [
    {
     "ename": "",
     "evalue": "",
     "output_type": "error",
     "traceback": [
      "<interactive>:3:32: error:\n    • Found hole: _ :: r\n      Where: ‘r’ is a rigid type variable bound by\n               the instance declaration\n               at <interactive>:1:10-25\n    • In the expression: _\n      In the second argument of ‘($)’, namely ‘\\ k -> _’\n      In the expression: Cont $ \\ k -> _\n    • Relevant bindings include\n        k :: b -> r (bound at <interactive>:3:27)\n        cont :: Cont r a (bound at <interactive>:3:12)\n        f :: a -> b (bound at <interactive>:3:10)\n        fmap :: (a -> b) -> Cont r a -> Cont r b (bound at <interactive>:3:5)"
     ]
    }
   ],
   "source": [
    "instance Functor (Cont r) where\n",
    "    fmap :: (a -> b) -> Cont r a -> Cont r b\n",
    "    fmap f cont = Cont $ \\k -> _"
   ]
  },
  {
   "cell_type": "markdown",
   "metadata": {},
   "source": [
    "In general, we know all of our definitions will be of the form `Cont $ \\k -> _` and that's a safe starting point. We now know that we need to use `k` on the result of applying `f` to some `a` to finally result in an `r`, but where does the `a` come from? The only thing we can do at this point is 'unwrap' the `cont` using `>>-`. What happens when we do that?"
   ]
  },
  {
   "cell_type": "code",
   "execution_count": 7,
   "metadata": {},
   "outputs": [
    {
     "ename": "",
     "evalue": "",
     "output_type": "error",
     "traceback": [
      "<interactive>:3:41: error:\n    • Found hole: _ :: a -> r\n      Where: ‘a’ is a rigid type variable bound by\n               the type signature for:\n                 fmap :: forall a b. (a -> b) -> Cont r a -> Cont r b\n               at <interactive>:2:13-44\n             ‘r’ is a rigid type variable bound by\n               the instance declaration\n               at <interactive>:1:10-25\n    • In the second argument of ‘>>-’, namely ‘_’\n      In the expression: cont >>- _\n      In the second argument of ‘($)’, namely ‘\\ k -> cont >>- _’\n    • Relevant bindings include\n        k :: b -> r (bound at <interactive>:3:27)\n        cont :: Cont r a (bound at <interactive>:3:12)\n        f :: a -> b (bound at <interactive>:3:10)\n        fmap :: (a -> b) -> Cont r a -> Cont r b (bound at <interactive>:3:5)"
     ]
    }
   ],
   "source": [
    "instance Functor (Cont r) where\n",
    "    fmap :: (a -> b) -> Cont r a -> Cont r b\n",
    "    fmap f cont = Cont $ \\k -> cont >>- _"
   ]
  },
  {
   "cell_type": "markdown",
   "metadata": {},
   "source": [
    "It looks like we might have everything we need to complete this definition! We can create a function of type `a -> r` by composing `k` and `f`. "
   ]
  },
  {
   "cell_type": "code",
   "execution_count": 8,
   "metadata": {},
   "outputs": [],
   "source": [
    "instance Functor (Cont r) where\n",
    "    fmap :: (a -> b) -> Cont r a -> Cont r b\n",
    "    fmap f cont = Cont $ \\k -> cont >>- (k . f)"
   ]
  },
  {
   "cell_type": "markdown",
   "metadata": {},
   "source": [
    "It worked! This definition states that `fmap` works by creating a continuation that expects a callback of the new type. This is pretty exciting! Let's continue to `Applicative`."
   ]
  },
  {
   "cell_type": "code",
   "execution_count": 9,
   "metadata": {},
   "outputs": [
    {
     "ename": "",
     "evalue": "",
     "output_type": "error",
     "traceback": [
      "<interactive>:3:27: error:\n    • Found hole: _ :: r\n      Where: ‘r’ is a rigid type variable bound by\n               the instance declaration\n               at <interactive>:1:10-29\n    • In the expression: _\n      In the second argument of ‘($)’, namely ‘\\ k -> _’\n      In the expression: Cont $ \\ k -> _\n    • Relevant bindings include\n        k :: a -> r (bound at <interactive>:3:22)\n        a :: a (bound at <interactive>:3:10)\n        pure :: a -> Cont r a (bound at <interactive>:3:5)"
     ]
    }
   ],
   "source": [
    "instance Applicative (Cont r) where\n",
    "    pure :: a -> Cont r a\n",
    "    pure a = Cont $ \\k -> _"
   ]
  },
  {
   "cell_type": "markdown",
   "metadata": {},
   "source": [
    "That was pretty easy. We need an `r` and we have an `a` and a `k` that takes an `a` to an `r`."
   ]
  },
  {
   "cell_type": "code",
   "execution_count": 10,
   "metadata": {},
   "outputs": [],
   "source": [
    "instance Applicative (Cont r) where\n",
    "    pure :: a -> Cont r a\n",
    "    pure a = Cont $ \\k -> k a"
   ]
  },
  {
   "cell_type": "markdown",
   "metadata": {},
   "source": [
    "This matches our intuition from above: creating a continuation involves hiding a value behind a function that can access it. On to `<*>`!"
   ]
  },
  {
   "cell_type": "code",
   "execution_count": 11,
   "metadata": {},
   "outputs": [
    {
     "ename": "",
     "evalue": "",
     "output_type": "error",
     "traceback": [
      "<interactive>:5:28: error:\n    • Found hole: _ :: r\n      Where: ‘r’ is a rigid type variable bound by\n               the instance declaration\n               at <interactive>:1:10-29\n    • In the expression: _\n      In the second argument of ‘($)’, namely ‘\\ k -> _’\n      In the expression: Cont $ \\ k -> _\n    • Relevant bindings include\n        k :: b -> r (bound at <interactive>:5:23)\n        a :: Cont r a (bound at <interactive>:5:11)\n        f :: Cont r (a -> b) (bound at <interactive>:5:5)\n        (<*>) :: Cont r (a -> b) -> Cont r a -> Cont r b (bound at <interactive>:5:7)"
     ]
    }
   ],
   "source": [
    "instance Applicative (Cont r) where\n",
    "    pure :: a -> Cont r a\n",
    "    pure a  = Cont $ \\k -> k a\n",
    "    (<*>) :: Cont r (a -> b) -> Cont r a -> Cont r b\n",
    "    f <*> a = Cont $ \\k -> _"
   ]
  },
  {
   "cell_type": "markdown",
   "metadata": {},
   "source": [
    "From above, we know we can 'unwrap' `Cont` values using `>>-`."
   ]
  },
  {
   "cell_type": "code",
   "execution_count": 12,
   "metadata": {},
   "outputs": [
    {
     "ename": "",
     "evalue": "",
     "output_type": "error",
     "traceback": [
      "<interactive>:5:34: error:\n    • Found hole: _ :: (a -> b) -> r\n      Where: ‘a’, ‘b’ are rigid type variables bound by\n               the type signature for:\n                 (<*>) :: forall a b. Cont r (a -> b) -> Cont r a -> Cont r b\n               at <interactive>:4:14-52\n             ‘r’ is a rigid type variable bound by\n               the instance declaration\n               at <interactive>:1:10-29\n    • In the second argument of ‘>>-’, namely ‘_’\n      In the expression: f >>- _\n      In the second argument of ‘($)’, namely ‘\\ k -> f >>- _’\n    • Relevant bindings include\n        k :: b -> r (bound at <interactive>:5:23)\n        a :: Cont r a (bound at <interactive>:5:11)\n        f :: Cont r (a -> b) (bound at <interactive>:5:5)\n        (<*>) :: Cont r (a -> b) -> Cont r a -> Cont r b (bound at <interactive>:5:7)"
     ]
    }
   ],
   "source": [
    "instance Applicative (Cont r) where\n",
    "    pure :: a -> Cont r a\n",
    "    pure a  = Cont $ \\k -> k a\n",
    "    (<*>) :: Cont r (a -> b) -> Cont r a -> Cont r b\n",
    "    f <*> a = Cont $ \\k -> f >>- _"
   ]
  },
  {
   "cell_type": "markdown",
   "metadata": {},
   "source": [
    "Let's keep going."
   ]
  },
  {
   "cell_type": "code",
   "execution_count": 13,
   "metadata": {},
   "outputs": [
    {
     "ename": "",
     "evalue": "",
     "output_type": "error",
     "traceback": [
      "<interactive>:5:54: error:\n    • Found hole: _ :: r\n      Where: ‘r’ is a rigid type variable bound by\n               the instance declaration\n               at <interactive>:1:10-29\n    • In the expression: _\n      In the second argument of ‘>>-’, namely ‘\\ a' -> _’\n      In the expression: a >>- \\ a' -> _\n    • Relevant bindings include\n        a' :: a (bound at <interactive>:5:48)\n        f' :: a -> b (bound at <interactive>:5:35)\n        k :: b -> r (bound at <interactive>:5:23)\n        a :: Cont r a (bound at <interactive>:5:11)\n        f :: Cont r (a -> b) (bound at <interactive>:5:5)\n        (<*>) :: Cont r (a -> b) -> Cont r a -> Cont r b (bound at <interactive>:5:7)"
     ]
    }
   ],
   "source": [
    "instance Applicative (Cont r) where\n",
    "    pure :: a -> Cont r a\n",
    "    pure a  = Cont $ \\k -> k a\n",
    "    (<*>) :: Cont r (a -> b) -> Cont r a -> Cont r b\n",
    "    f <*> a = Cont $ \\k -> f >>- \\f' -> a >>- \\a' -> _"
   ]
  },
  {
   "cell_type": "markdown",
   "metadata": {},
   "source": [
    "Perfect, we want an `r` and we have\n",
    "\n",
    "- an `a` (`a'`)\n",
    "- a function from `a` to `b` (`f'`)\n",
    "- a function from `b` to `r` (`k`)\n",
    "\n",
    "Let's put them together."
   ]
  },
  {
   "cell_type": "code",
   "execution_count": 14,
   "metadata": {},
   "outputs": [],
   "source": [
    "instance Applicative (Cont r) where\n",
    "    pure :: a -> Cont r a\n",
    "    pure a  = Cont $ \\k -> k a\n",
    "    (<*>) :: Cont r (a -> b) -> Cont r a -> Cont r b\n",
    "    f <*> a = Cont $ \\k -> f >>- \\f' -> a >>- \\a' -> k (f' a')"
   ]
  },
  {
   "cell_type": "markdown",
   "metadata": {},
   "source": [
    "Okay, we unwrap the function and the argument and rewrap them in a fresh continuation, not too differently from how we defined `fmap`. Sweet! On to the big M!"
   ]
  },
  {
   "cell_type": "code",
   "execution_count": 15,
   "metadata": {},
   "outputs": [
    {
     "ename": "",
     "evalue": "",
     "output_type": "error",
     "traceback": [
      "<interactive>:3:28: error:\n    • Found hole: _ :: r\n      Where: ‘r’ is a rigid type variable bound by\n               the instance declaration\n               at <interactive>:1:10-23\n    • In the expression: _\n      In the second argument of ‘($)’, namely ‘\\ k -> _’\n      In the expression: Cont $ \\ k -> _\n    • Relevant bindings include\n        k :: b -> r (bound at <interactive>:3:23)\n        f :: a -> Cont r b (bound at <interactive>:3:11)\n        a :: Cont r a (bound at <interactive>:3:5)\n        (>>=) :: Cont r a -> (a -> Cont r b) -> Cont r b (bound at <interactive>:3:7)"
     ]
    }
   ],
   "source": [
    "instance Monad (Cont r) where\n",
    "    (>>=) :: Cont r a -> (a -> Cont r b) -> Cont r b\n",
    "    a >>= f = Cont $ \\k -> _"
   ]
  },
  {
   "cell_type": "markdown",
   "metadata": {},
   "source": [
    "As before, our first order of business is to unwrap the `a`."
   ]
  },
  {
   "cell_type": "code",
   "execution_count": 16,
   "metadata": {},
   "outputs": [
    {
     "ename": "",
     "evalue": "",
     "output_type": "error",
     "traceback": [
      "<interactive>:3:41: error:\n    • Found hole: _ :: r\n      Where: ‘r’ is a rigid type variable bound by\n               the instance declaration\n               at <interactive>:1:10-23\n    • In the expression: _\n      In the second argument of ‘>>-’, namely ‘\\ a' -> _’\n      In the expression: a >>- \\ a' -> _\n    • Relevant bindings include\n        a' :: a (bound at <interactive>:3:35)\n        k :: b -> r (bound at <interactive>:3:23)\n        f :: a -> Cont r b (bound at <interactive>:3:11)\n        a :: Cont r a (bound at <interactive>:3:5)\n        (>>=) :: Cont r a -> (a -> Cont r b) -> Cont r b (bound at <interactive>:3:7)"
     ]
    }
   ],
   "source": [
    "instance Monad (Cont r) where\n",
    "    (>>=) :: Cont r a -> (a -> Cont r b) -> Cont r b\n",
    "    a >>= f = Cont $ \\k -> a >>- \\a' -> _"
   ]
  },
  {
   "cell_type": "markdown",
   "metadata": {},
   "source": [
    "We can apply `f` to this unwrapped value to get a continuation that we can unwrap again."
   ]
  },
  {
   "cell_type": "code",
   "execution_count": 17,
   "metadata": {},
   "outputs": [
    {
     "ename": "",
     "evalue": "",
     "output_type": "error",
     "traceback": [
      "<interactive>:3:57: error:\n    • Found hole: _ :: r\n      Where: ‘r’ is a rigid type variable bound by\n               the instance declaration\n               at <interactive>:1:10-23\n    • In the expression: _\n      In the second argument of ‘>>-’, namely ‘\\ f' -> _’\n      In the expression: f a' >>- \\ f' -> _\n    • Relevant bindings include\n        f' :: b (bound at <interactive>:3:51)\n        a' :: a (bound at <interactive>:3:35)\n        k :: b -> r (bound at <interactive>:3:23)\n        f :: a -> Cont r b (bound at <interactive>:3:11)\n        a :: Cont r a (bound at <interactive>:3:5)\n        (>>=) :: Cont r a -> (a -> Cont r b) -> Cont r b (bound at <interactive>:3:7)"
     ]
    }
   ],
   "source": [
    "instance Monad (Cont r) where\n",
    "    (>>=) :: Cont r a -> (a -> Cont r b) -> Cont r b\n",
    "    a >>= f = Cont $ \\k -> a >>- \\a' -> f a' >>- \\f' -> _"
   ]
  },
  {
   "cell_type": "markdown",
   "metadata": {},
   "source": [
    "We want an `r` and we have `k` and `f'`. Let's put them together!"
   ]
  },
  {
   "cell_type": "code",
   "execution_count": 18,
   "metadata": {},
   "outputs": [],
   "source": [
    "instance Monad (Cont r) where\n",
    "    (>>=) :: Cont r a -> (a -> Cont r b) -> Cont r b\n",
    "    a >>= f = Cont $ \\k -> a >>- \\a' -> f a' >>- \\f' -> k f'"
   ]
  },
  {
   "cell_type": "markdown",
   "metadata": {},
   "source": [
    "And that's it! The [mother of all monads](http://blog.sigfpe.com/2008/12/mother-of-all-monads.html) boils down to some tedious and almost mechanical wrapping and unwrapping. I think it's cool how mundane it is.\n",
    "\n",
    "Let's have a crack at something more involved. A lot of the magic in continuations is accessed via `callCC`, which takes a function and calls it with the current continuation, hence the name. How would we define it?"
   ]
  },
  {
   "cell_type": "code",
   "execution_count": 19,
   "metadata": {},
   "outputs": [
    {
     "ename": "",
     "evalue": "",
     "output_type": "error",
     "traceback": [
      "<interactive>:2:25: error:\n    • Found hole: _ :: r\n      Where: ‘r’ is a rigid type variable bound by\n               the type signature for:\n                 callCC :: forall b r a. ((b -> Cont r a) -> Cont r b) -> Cont r b\n               at <interactive>:1:1-51\n    • In the expression: _\n      In the second argument of ‘($)’, namely ‘\\ k -> _’\n      In the expression: Cont $ \\ k -> _\n    • Relevant bindings include\n        k :: b -> r (bound at <interactive>:2:20)\n        f :: (b -> Cont r a) -> Cont r b (bound at <interactive>:2:8)\n        callCC :: ((b -> Cont r a) -> Cont r b) -> Cont r b (bound at <interactive>:2:1)"
     ]
    }
   ],
   "source": [
    "callCC :: ((b -> Cont r a) -> Cont r b) -> Cont r b\n",
    "callCC f = Cont $ \\k -> _"
   ]
  },
  {
   "cell_type": "markdown",
   "metadata": {},
   "source": [
    "Our definition involves `b`, but the only `b` we have available is wrapped up in `f`. We need to provide an argument of a certain type to `f`, and then unwrap the result of that? Time to bring out the big guns: multiple typed holes!"
   ]
  },
  {
   "cell_type": "code",
   "execution_count": 20,
   "metadata": {},
   "outputs": [
    {
     "ename": "",
     "evalue": "",
     "output_type": "error",
     "traceback": [
      "<interactive>:2:27: error:\n    • Found hole: _1 :: b -> Cont r a\n      Where: ‘b’, ‘r’, ‘a’ are rigid type variables bound by\n               the type signature for:\n                 callCC :: forall b r a. ((b -> Cont r a) -> Cont r b) -> Cont r b\n               at <interactive>:1:1-51\n      Or perhaps ‘_1’ is mis-spelled, or not in scope\n    • In the first argument of ‘f’, namely ‘_1’\n      In the first argument of ‘>>-’, namely ‘f _1’\n      In the expression: f _1 >>- _2\n    • Relevant bindings include\n        k :: b -> r (bound at <interactive>:2:20)\n        f :: (b -> Cont r a) -> Cont r b (bound at <interactive>:2:8)\n        callCC :: ((b -> Cont r a) -> Cont r b) -> Cont r b (bound at <interactive>:2:1)\n<interactive>:2:34: error:\n    • Found hole: _2 :: b -> r\n      Where: ‘b’, ‘r’ are rigid type variables bound by\n               the type signature for:\n                 callCC :: forall b r a. ((b -> Cont r a) -> Cont r b) -> Cont r b\n               at <interactive>:1:1-51\n      Or perhaps ‘_2’ is mis-spelled, or not in scope\n    • In the second argument of ‘>>-’, namely ‘_2’\n      In the expression: f _1 >>- _2\n      In the second argument of ‘($)’, namely ‘\\ k -> f _1 >>- _2’\n    • Relevant bindings include\n        k :: b -> r (bound at <interactive>:2:20)\n        f :: (b -> Cont r a) -> Cont r b (bound at <interactive>:2:8)\n        callCC :: ((b -> Cont r a) -> Cont r b) -> Cont r b (bound at <interactive>:2:1)\n      Valid hole fits include k :: b -> r (bound at <interactive>:2:20)"
     ]
    }
   ],
   "source": [
    "callCC :: ((b -> Cont r a) -> Cont r b) -> Cont r b\n",
    "callCC f = Cont $ \\k -> f _1 >>- _2"
   ]
  },
  {
   "cell_type": "markdown",
   "metadata": {},
   "source": [
    "Great, `k` fits perfectly into the second hole. That was easy."
   ]
  },
  {
   "cell_type": "code",
   "execution_count": 21,
   "metadata": {},
   "outputs": [
    {
     "ename": "",
     "evalue": "",
     "output_type": "error",
     "traceback": [
      "<interactive>:2:27: error:\n    • Found hole: _ :: b -> Cont r a\n      Where: ‘b’, ‘r’, ‘a’ are rigid type variables bound by\n               the type signature for:\n                 callCC :: forall b r a. ((b -> Cont r a) -> Cont r b) -> Cont r b\n               at <interactive>:1:1-51\n    • In the first argument of ‘f’, namely ‘_’\n      In the first argument of ‘>>-’, namely ‘f _’\n      In the expression: f _ >>- k\n    • Relevant bindings include\n        k :: b -> r (bound at <interactive>:2:20)\n        f :: (b -> Cont r a) -> Cont r b (bound at <interactive>:2:8)\n        callCC :: ((b -> Cont r a) -> Cont r b) -> Cont r b (bound at <interactive>:2:1)"
     ]
    }
   ],
   "source": [
    "callCC :: ((b -> Cont r a) -> Cont r b) -> Cont r b\n",
    "callCC f = Cont $ \\k -> f _ >>- k"
   ]
  },
  {
   "cell_type": "markdown",
   "metadata": {},
   "source": [
    "We're being asked to provide a function that takes one argument and returns a continuation. Let's fill in the boilerplate and see where that takes us."
   ]
  },
  {
   "cell_type": "code",
   "execution_count": 22,
   "metadata": {},
   "outputs": [
    {
     "ename": "",
     "evalue": "",
     "output_type": "error",
     "traceback": [
      "<interactive>:2:48: error:\n    • Found hole: _ :: r\n      Where: ‘r’ is a rigid type variable bound by\n               the type signature for:\n                 callCC :: forall b r a. ((b -> Cont r a) -> Cont r b) -> Cont r b\n               at <interactive>:1:1-51\n    • In the expression: _\n      In the second argument of ‘($)’, namely ‘\\ k' -> _’\n      In the expression: Cont $ \\ k' -> _\n    • Relevant bindings include\n        k' :: a -> r (bound at <interactive>:2:42)\n        b :: b (bound at <interactive>:2:29)\n        k :: b -> r (bound at <interactive>:2:20)\n        f :: (b -> Cont r a) -> Cont r b (bound at <interactive>:2:8)\n        callCC :: ((b -> Cont r a) -> Cont r b) -> Cont r b (bound at <interactive>:2:1)"
     ]
    }
   ],
   "source": [
    "callCC :: ((b -> Cont r a) -> Cont r b) -> Cont r b\n",
    "callCC f = Cont $ \\k -> f (\\b -> Cont $ \\k' -> _) >>- k"
   ]
  },
  {
   "cell_type": "markdown",
   "metadata": {},
   "source": [
    "And we're done! We can get an `r` by applying `k` to `b`."
   ]
  },
  {
   "cell_type": "code",
   "execution_count": 23,
   "metadata": {},
   "outputs": [],
   "source": [
    "callCC :: ((b -> Cont r a) -> Cont r b) -> Cont r b\n",
    "callCC f = Cont $ \\k -> f (\\b -> Cont $ \\k' -> k b) >>- k"
   ]
  },
  {
   "cell_type": "markdown",
   "metadata": {},
   "source": [
    "A closer look at the definition reveals that `k'` is unused, and this function provides `f` with the option to exit early if desired, or continue as normal. There's a good explanation of why and how this works at [the aforementioned article](https://github.com/quchen/articles/blob/master/cont_monad.md#special-api-function-callcc).\n",
    "\n",
    "Still a bit wary? That's fair. I like to poke at the definitions, [read the source](https://hackage.haskell.org/package/transformers-0.4.3.0/docs/src/Control-Monad-Trans-Cont.html), look at how Gabriella Gonzalez [explains it](http://www.haskellforall.com/2014/04/how-continuation-monad-works.html), and have a cup of tea and think about life for a while. Whatever works for you!\n",
    "\n",
    "If you looked at the source, you might have noticed something interesting: The definition for the ContT monad transformer is identical! Here it is below."
   ]
  },
  {
   "cell_type": "code",
   "execution_count": 24,
   "metadata": {},
   "outputs": [],
   "source": [
    "newtype ContT r m a = ContT { (>>-) :: (a -> m r) -> m r }\n",
    "\n",
    "instance Functor (ContT r m) where\n",
    "    fmap :: (a -> b) -> ContT r m a -> ContT r m b\n",
    "    fmap f cont = ContT $ \\k -> cont >>- (k . f)\n",
    "\n",
    "instance Applicative (ContT r m) where\n",
    "    pure :: a -> ContT r m a\n",
    "    pure a  = ContT $ \\k -> k a\n",
    "    (<*>) :: ContT r m (a -> b) -> ContT r m a -> ContT r m b\n",
    "    f <*> a = ContT $ \\k -> f >>- \\f' -> a >>- \\a' -> k (f' a')\n",
    "\n",
    "instance Monad (ContT r m) where\n",
    "    (>>=) :: ContT r m a -> (a -> ContT r m b) -> ContT r m b\n",
    "    a >>= f = ContT $ \\k -> a >>- \\a' -> f a' >>- \\f' -> k f'\n",
    "    \n",
    "callCC :: ((b -> ContT r m a) -> ContT r m b) -> ContT r m b\n",
    "callCC f = ContT $ \\k -> f (\\b -> ContT $ \\k' -> k b) >>- k"
   ]
  },
  {
   "cell_type": "markdown",
   "metadata": {},
   "source": [
    "I love being able to interact with these definitions like this. This is really how I want to program, and I'd encourage you to try it! The notebook is [here](https://github.com/vaibhavsagar/notebooks/blob/master/continuations/Continuation.ipynb) for you to play with if you have IHaskell set up. IHaskell isn't just useful for programming: I even used it to [write this blog post](https://github.com/vaibhavsagar/notebooks/blob/master/continuations/DiscoveringContinuationsWithTypedHoles.ipynb)!\n",
    "\n",
    "I feel like I should end with something profound about continuations, but I'll instead link you to [this presentation by Tim Humphries](http://teh.id.au/posts/2017/05/10/lambdajam-slides/index.html) and once again nudge you to try typed holes the next time you're in a Haskell bind (pun very much intended).\n",
    "\n",
    "Thanks to [Iain McCoy](https://twitter.com/imccoy), [Julia Evans](https://jvns.ca/), and [Carl Factora](https://ivanthetricourne.github.io/) for their feedback and suggestions on this post."
   ]
  }
 ],
 "metadata": {
  "kernelspec": {
   "display_name": "Haskell",
   "language": "haskell",
   "name": "haskell"
  },
  "language_info": {
   "codemirror_mode": "ihaskell",
   "file_extension": ".hs",
   "mimetype": "text/x-haskell",
   "name": "haskell",
   "pygments_lexer": "Haskell",
   "version": "8.10.4"
  }
 },
 "nbformat": 4,
 "nbformat_minor": 2
}
