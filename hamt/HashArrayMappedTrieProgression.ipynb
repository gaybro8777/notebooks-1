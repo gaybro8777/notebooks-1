{
 "cells": [
  {
   "cell_type": "code",
   "execution_count": 1,
   "id": "outside-alexander",
   "metadata": {},
   "outputs": [],
   "source": [
    "{-# LANGUAGE GeneralizedNewtypeDeriving #-}\n",
    "{-# LANGUAGE TypeSynonymInstances #-}\n",
    "{-# LANGUAGE FlexibleInstances #-}\n",
    "{-# LANGUAGE RankNTypes #-}\n",
    "\n",
    "\n",
    "import Data.Bits             (Bits (bit, complement, popCount, shiftR, (.&.), (.|.), testBit),\n",
    "                              FiniteBits (finiteBitSize))\n",
    "import Data.ByteArray.Hash   (FnvHash32 (..), fnv1Hash)\n",
    "import Data.ByteString.Char8 (pack)\n",
    "import Data.Char             (intToDigit)\n",
    "import Data.Semigroup        ((<>))\n",
    "import Data.Vector           (Vector, drop, singleton, take, replicate, (!), (//))\n",
    "import Data.Word             (Word16, Word32)\n",
    "import Numeric               (showIntAtBase)\n",
    "import Prelude               hiding (drop, lookup, take, replicate)\n",
    "import qualified             Prelude\n",
    "import System.TimeIt         (timeIt)\n",
    "import Text.Show.Pretty      (pPrint)"
   ]
  },
  {
   "cell_type": "code",
   "execution_count": 2,
   "id": "drawn-spiritual",
   "metadata": {},
   "outputs": [],
   "source": [
    "newtype Binary a = Binary a\n",
    "    deriving (Enum, Ord, Real, Integral, Eq, Num, Bits, FiniteBits)\n",
    "\n",
    "instance (FiniteBits a, Show a, Integral a) => Show (Binary a) where\n",
    "    show (Binary n) = let\n",
    "        str = showIntAtBase 2 intToDigit n \"\"\n",
    "        size = finiteBitSize n\n",
    "        in Prelude.replicate (size - length str) '0' <> str"
   ]
  },
  {
   "cell_type": "code",
   "execution_count": 3,
   "id": "light-carolina",
   "metadata": {},
   "outputs": [],
   "source": [
    "type Hash = Binary Word32\n",
    "\n",
    "class Hashable a where\n",
    "    hash :: a -> Hash"
   ]
  },
  {
   "cell_type": "code",
   "execution_count": 4,
   "id": "swiss-metro",
   "metadata": {},
   "outputs": [],
   "source": [
    "instance Hashable String where\n",
    "    hash s = let\n",
    "        FnvHash32 h = fnv1Hash (pack s)\n",
    "        in Binary h\n",
    "\n",
    "instance Hashable Int where\n",
    "    hash int = Binary (fromIntegral int)"
   ]
  },
  {
   "cell_type": "code",
   "execution_count": 5,
   "id": "innovative-bidder",
   "metadata": {},
   "outputs": [],
   "source": [
    "class Mapping mapping where\n",
    "    empty :: forall k v. mapping k v\n",
    "    lookup :: forall k v. (Hashable k) => k -> mapping k v -> Maybe v\n",
    "    insert :: forall k v. (Hashable k) => k -> v -> mapping k v -> mapping k v"
   ]
  },
  {
   "cell_type": "code",
   "execution_count": 6,
   "id": "english-ultimate",
   "metadata": {},
   "outputs": [],
   "source": [
    "fib' :: (Mapping m) => m Int Integer -> Int -> (Integer, m Int Integer)\n",
    "fib' table 0 = (1, insert 0 1 table)\n",
    "fib' table 1 = (1, insert 1 1 table)\n",
    "fib' table n = case lookup n table of\n",
    "    Just i -> (i, table)\n",
    "    Nothing -> let\n",
    "        (i1, table')  = fib' table  (n-1)\n",
    "        (i2, table'') = fib' table' (n-2)\n",
    "        in (i1 + i2, insert n (i1 + i2) table'')"
   ]
  },
  {
   "cell_type": "code",
   "execution_count": 7,
   "id": "active-aberdeen",
   "metadata": {},
   "outputs": [],
   "source": [
    "data HashBinaryMappedTrie key value\n",
    "    = HashBinaryMappedTrieNone\n",
    "    | HashBinaryMappedTrieLeaf Hash key value\n",
    "    | HashBinaryMappedTrieNode\n",
    "        (HashBinaryMappedTrie key value)\n",
    "        (HashBinaryMappedTrie key value)\n",
    "    deriving (Eq, Show)"
   ]
  },
  {
   "cell_type": "code",
   "execution_count": 8,
   "id": "according-sewing",
   "metadata": {},
   "outputs": [],
   "source": [
    "emptyHashBinaryMappedTrie = HashBinaryMappedTrieNone"
   ]
  },
  {
   "cell_type": "code",
   "execution_count": 9,
   "id": "lasting-shopping",
   "metadata": {},
   "outputs": [],
   "source": [
    "insertHashBinaryMappedTrie :: (Hashable key) => key -> value -> HashBinaryMappedTrie key value -> HashBinaryMappedTrie key value\n",
    "insertHashBinaryMappedTrie key = insertHashBinaryMappedTrieHelper 0 (hash key) key\n",
    "\n",
    "insertHashBinaryMappedTrieHelper :: Int -> Hash -> key -> value -> HashBinaryMappedTrie key value -> HashBinaryMappedTrie key value\n",
    "insertHashBinaryMappedTrieHelper depth hash key value HashBinaryMappedTrieNone =\n",
    "    HashBinaryMappedTrieLeaf hash key value\n",
    "insertHashBinaryMappedTrieHelper depth hash key value (HashBinaryMappedTrieLeaf leafHash leafKey leafValue)\n",
    "    | hash == leafHash = HashBinaryMappedTrieLeaf hash key value\n",
    "    | otherwise = let\n",
    "        emptyNode = HashBinaryMappedTrieNode HashBinaryMappedTrieNone HashBinaryMappedTrieNone\n",
    "        leafInsertedNode = insertHashBinaryMappedTrieHelper depth leafHash leafKey leafValue emptyNode\n",
    "        in insertHashBinaryMappedTrieHelper depth hash key value leafInsertedNode\n",
    "insertHashBinaryMappedTrieHelper depth hash key value (HashBinaryMappedTrieNode left right) = let\n",
    "    goRight = testBit hash depth\n",
    "    depth' = depth + 1\n",
    "    in if goRight\n",
    "        then HashBinaryMappedTrieNode left (insertHashBinaryMappedTrieHelper depth' hash key value right)\n",
    "        else HashBinaryMappedTrieNode (insertHashBinaryMappedTrieHelper depth' hash key value left) right"
   ]
  },
  {
   "cell_type": "code",
   "execution_count": 10,
   "id": "color-truck",
   "metadata": {},
   "outputs": [],
   "source": [
    "lookupHashBinaryMappedTrie :: (Hashable key) => key -> HashBinaryMappedTrie key value -> Maybe value\n",
    "lookupHashBinaryMappedTrie key = lookupHashBinaryMappedTrieHelper 0 (hash key) key\n",
    "\n",
    "lookupHashBinaryMappedTrieHelper :: Int -> Hash -> key -> HashBinaryMappedTrie key value -> Maybe value\n",
    "lookupHashBinaryMappedTrieHelper depth hash key HashBinaryMappedTrieNone = Nothing\n",
    "lookupHashBinaryMappedTrieHelper depth hash key (HashBinaryMappedTrieLeaf leafHash leafKey leafValue)\n",
    "    | hash == leafHash = Just leafValue\n",
    "    | otherwise = Nothing\n",
    "lookupHashBinaryMappedTrieHelper depth hash key (HashBinaryMappedTrieNode left right) = let\n",
    "    goRight = testBit hash depth\n",
    "    depth' = depth + 1\n",
    "    in if goRight\n",
    "        then lookupHashBinaryMappedTrieHelper depth' hash key right\n",
    "        else lookupHashBinaryMappedTrieHelper depth' hash key left"
   ]
  },
  {
   "cell_type": "code",
   "execution_count": 11,
   "id": "associate-plaintiff",
   "metadata": {},
   "outputs": [],
   "source": [
    "instance Mapping HashBinaryMappedTrie where\n",
    "    empty = emptyHashBinaryMappedTrie\n",
    "    insert = insertHashBinaryMappedTrie\n",
    "    lookup = lookupHashBinaryMappedTrie"
   ]
  },
  {
   "cell_type": "code",
   "execution_count": 12,
   "id": "hawaiian-figure",
   "metadata": {},
   "outputs": [],
   "source": [
    "data Hash2ArrayMappedTrie key value\n",
    "    = Hash2ArrayMappedTrieNone\n",
    "    | Hash2ArrayMappedTrieLeaf Hash key value\n",
    "    | Hash2ArrayMappedTrieNode (Vector (Hash2ArrayMappedTrie key value))\n",
    "    deriving (Eq, Show)"
   ]
  },
  {
   "cell_type": "code",
   "execution_count": 13,
   "id": "viral-description",
   "metadata": {},
   "outputs": [],
   "source": [
    "emptyHash2ArrayMappedTrie = Hash2ArrayMappedTrieNone"
   ]
  },
  {
   "cell_type": "code",
   "execution_count": 14,
   "id": "derived-given",
   "metadata": {},
   "outputs": [],
   "source": [
    "insertHash2ArrayMappedTrie :: (Hashable key) => key -> value -> Hash2ArrayMappedTrie key value -> Hash2ArrayMappedTrie key value\n",
    "insertHash2ArrayMappedTrie key = insertHash2ArrayMappedTrieHelper 0 (hash key) key\n",
    "\n",
    "insertHash2ArrayMappedTrieHelper :: Int -> Hash -> key -> value -> Hash2ArrayMappedTrie key value -> Hash2ArrayMappedTrie key value\n",
    "insertHash2ArrayMappedTrieHelper depth hash key value Hash2ArrayMappedTrieNone =\n",
    "    Hash2ArrayMappedTrieLeaf hash key value\n",
    "insertHash2ArrayMappedTrieHelper depth hash key value (Hash2ArrayMappedTrieLeaf leafHash leafKey leafValue)\n",
    "    | hash == leafHash = Hash2ArrayMappedTrieLeaf hash key value\n",
    "    | otherwise = let\n",
    "        emptyNode = Hash2ArrayMappedTrieNode (replicate 2 Hash2ArrayMappedTrieNone)\n",
    "        leafInsertedNode = insertHash2ArrayMappedTrieHelper depth leafHash leafKey leafValue emptyNode\n",
    "        in insertHash2ArrayMappedTrieHelper depth hash key value leafInsertedNode\n",
    "insertHash2ArrayMappedTrieHelper depth hash key value (Hash2ArrayMappedTrieNode children) = let\n",
    "    goRight = testBit hash depth\n",
    "    depth' = depth + 1\n",
    "    in if goRight\n",
    "        then Hash2ArrayMappedTrieNode $ children // [(1, insertHash2ArrayMappedTrieHelper depth' hash key value (children ! 1))]\n",
    "        else Hash2ArrayMappedTrieNode $ children // [(0, insertHash2ArrayMappedTrieHelper depth' hash key value (children ! 0))]"
   ]
  },
  {
   "cell_type": "code",
   "execution_count": 15,
   "id": "detailed-allocation",
   "metadata": {},
   "outputs": [],
   "source": [
    "lookupHash2ArrayMappedTrie :: (Hashable key) => key -> Hash2ArrayMappedTrie key value -> Maybe value\n",
    "lookupHash2ArrayMappedTrie key = lookupHash2ArrayMappedTrieHelper 0 (hash key) key\n",
    "\n",
    "lookupHash2ArrayMappedTrieHelper :: Int -> Hash -> key -> Hash2ArrayMappedTrie key value -> Maybe value\n",
    "lookupHash2ArrayMappedTrieHelper depth hash key Hash2ArrayMappedTrieNone = Nothing\n",
    "lookupHash2ArrayMappedTrieHelper depth hash key (Hash2ArrayMappedTrieLeaf leafHash leafKey leafValue)\n",
    "    | hash == leafHash = Just leafValue\n",
    "    | otherwise = Nothing\n",
    "lookupHash2ArrayMappedTrieHelper depth hash key (Hash2ArrayMappedTrieNode children) = let\n",
    "    goRight = testBit hash depth\n",
    "    depth' = depth + 1\n",
    "    in if goRight\n",
    "        then lookupHash2ArrayMappedTrieHelper depth' hash key (children ! 1)\n",
    "        else lookupHash2ArrayMappedTrieHelper depth' hash key (children ! 0)"
   ]
  },
  {
   "cell_type": "code",
   "execution_count": 16,
   "id": "typical-pharmacology",
   "metadata": {},
   "outputs": [],
   "source": [
    "instance Mapping Hash2ArrayMappedTrie where\n",
    "    empty = emptyHash2ArrayMappedTrie\n",
    "    insert = insertHash2ArrayMappedTrie\n",
    "    lookup = lookupHash2ArrayMappedTrie"
   ]
  },
  {
   "cell_type": "code",
   "execution_count": 17,
   "id": "compatible-story",
   "metadata": {},
   "outputs": [],
   "source": [
    "data HashArrayMappedTrieSpacious key value\n",
    "    = HashArrayMappedTrieSpaciousNone\n",
    "    | HashArrayMappedTrieSpaciousLeaf Hash key value\n",
    "    | HashArrayMappedTrieSpaciousNode (Vector (HashArrayMappedTrieSpacious key value))\n",
    "    deriving (Eq, Show)"
   ]
  },
  {
   "cell_type": "code",
   "execution_count": 18,
   "id": "stuck-blowing",
   "metadata": {},
   "outputs": [],
   "source": [
    "emptyHashArrayMappedTrieSpacious = HashArrayMappedTrieSpaciousNone"
   ]
  },
  {
   "cell_type": "code",
   "execution_count": 19,
   "id": "black-confirmation",
   "metadata": {},
   "outputs": [],
   "source": [
    "hashFragmentLength :: Int\n",
    "hashFragmentLength = 4\n",
    "\n",
    "hashMask = bit hashFragmentLength - 1 -- 0b1111"
   ]
  },
  {
   "cell_type": "code",
   "execution_count": 20,
   "id": "cooked-uzbekistan",
   "metadata": {},
   "outputs": [],
   "source": [
    "insertHashArrayMappedTrieSpacious :: (Hashable key) => key -> value -> HashArrayMappedTrieSpacious key value -> HashArrayMappedTrieSpacious key value\n",
    "insertHashArrayMappedTrieSpacious key = insertHashArrayMappedTrieSpaciousHelper 0 (hash key) key\n",
    "\n",
    "insertHashArrayMappedTrieSpaciousHelper :: Int -> Hash -> key -> value -> HashArrayMappedTrieSpacious key value -> HashArrayMappedTrieSpacious key value\n",
    "insertHashArrayMappedTrieSpaciousHelper depth hash key value HashArrayMappedTrieSpaciousNone =\n",
    "    HashArrayMappedTrieSpaciousLeaf hash key value\n",
    "insertHashArrayMappedTrieSpaciousHelper depth hash key value (HashArrayMappedTrieSpaciousLeaf leafHash leafKey leafValue)\n",
    "    | hash == leafHash = HashArrayMappedTrieSpaciousLeaf hash key value\n",
    "    | otherwise = let\n",
    "        emptyNode = HashArrayMappedTrieSpaciousNode (replicate (2^hashFragmentLength) HashArrayMappedTrieSpaciousNone)\n",
    "        leafInsertedNode = insertHashArrayMappedTrieSpaciousHelper depth leafHash leafKey leafValue emptyNode\n",
    "        in insertHashArrayMappedTrieSpaciousHelper depth hash key value leafInsertedNode\n",
    "insertHashArrayMappedTrieSpaciousHelper depth hash key value (HashArrayMappedTrieSpaciousNode children) = let\n",
    "    hashFragment = (hash `shiftR` depth) .&. hashMask\n",
    "    index = fromIntegral hashFragment\n",
    "    depth' = depth + hashFragmentLength\n",
    "    in HashArrayMappedTrieSpaciousNode\n",
    "        (children // [(index, insertHashArrayMappedTrieSpaciousHelper depth' hash key value (children ! index))])"
   ]
  },
  {
   "cell_type": "code",
   "execution_count": 21,
   "id": "pregnant-lounge",
   "metadata": {},
   "outputs": [],
   "source": [
    "lookupHashArrayMappedTrieSpacious :: (Hashable key) => key -> HashArrayMappedTrieSpacious key value -> Maybe value\n",
    "lookupHashArrayMappedTrieSpacious key = lookupHashArrayMappedTrieSpaciousHelper 0 (hash key) key\n",
    "\n",
    "lookupHashArrayMappedTrieSpaciousHelper :: Int -> Hash -> key -> HashArrayMappedTrieSpacious key value -> Maybe value\n",
    "lookupHashArrayMappedTrieSpaciousHelper depth hash key HashArrayMappedTrieSpaciousNone = Nothing\n",
    "lookupHashArrayMappedTrieSpaciousHelper depth hash key (HashArrayMappedTrieSpaciousLeaf leafHash leafKey leafValue)\n",
    "    | hash == leafHash = Just leafValue\n",
    "    | otherwise = Nothing\n",
    "lookupHashArrayMappedTrieSpaciousHelper depth hash key (HashArrayMappedTrieSpaciousNode children) = let\n",
    "    hashFragment = (hash `shiftR` depth) .&. hashMask\n",
    "    index = fromIntegral hashFragment\n",
    "    depth' = depth + hashFragmentLength\n",
    "    in lookupHashArrayMappedTrieSpaciousHelper depth' hash key (children ! index)"
   ]
  },
  {
   "cell_type": "code",
   "execution_count": 22,
   "id": "weird-stuart",
   "metadata": {},
   "outputs": [],
   "source": [
    "instance Mapping HashArrayMappedTrieSpacious where\n",
    "    empty = emptyHashArrayMappedTrieSpacious\n",
    "    insert = insertHashArrayMappedTrieSpacious\n",
    "    lookup = lookupHashArrayMappedTrieSpacious"
   ]
  },
  {
   "cell_type": "code",
   "execution_count": 23,
   "id": "documentary-assurance",
   "metadata": {
    "scrolled": false
   },
   "outputs": [],
   "source": [
    "data HashArrayMappedTrie key value\n",
    "    = HashArrayMappedTrieNone\n",
    "    | HashArrayMappedTrieLeaf Hash key value\n",
    "    | HashArrayMappedTrieNode (Binary Word16) (Vector (HashArrayMappedTrie key value))\n",
    "    deriving (Eq, Show)"
   ]
  },
  {
   "cell_type": "code",
   "execution_count": 24,
   "id": "governing-ebony",
   "metadata": {},
   "outputs": [],
   "source": [
    "emptyHashArrayMappedTrie = HashArrayMappedTrieNone"
   ]
  },
  {
   "cell_type": "code",
   "execution_count": 25,
   "id": "worse-turner",
   "metadata": {},
   "outputs": [],
   "source": [
    "insertHashArrayMappedTrie :: (Hashable key) => key -> value -> HashArrayMappedTrie key value -> HashArrayMappedTrie key value\n",
    "insertHashArrayMappedTrie key = insertHashArrayMappedTrieHelper 0 (hash key) key\n",
    "\n",
    "insertHashArrayMappedTrieHelper :: Int -> Hash -> key -> value -> HashArrayMappedTrie key value -> HashArrayMappedTrie key value\n",
    "insertHashArrayMappedTrieHelper depth hash key value HashArrayMappedTrieNone =\n",
    "    HashArrayMappedTrieLeaf hash key value\n",
    "insertHashArrayMappedTrieHelper depth hash key value leaf@(HashArrayMappedTrieLeaf leafHash leafKey leafValue)\n",
    "    | hash == leafHash = HashArrayMappedTrieLeaf hash key value\n",
    "    | otherwise = let\n",
    "        leafHashFragment = (leafHash `shiftR` depth) .&. hashMask\n",
    "        leafBitmap = bit (fromIntegral leafHashFragment)\n",
    "        leafInsertedNode = HashArrayMappedTrieNode leafBitmap (singleton leaf)\n",
    "        in insertHashArrayMappedTrieHelper depth hash key value leafInsertedNode\n",
    "insertHashArrayMappedTrieHelper depth hash key value (HashArrayMappedTrieNode bitmap children) = let\n",
    "    hashFragment = (hash `shiftR` depth) .&. hashMask\n",
    "    elemBitmap = bit (fromIntegral hashFragment)\n",
    "    index = popCount (bitmap .&. (elemBitmap - 1))\n",
    "    depth' = depth + hashFragmentLength\n",
    "    in if elemBitmap .&. bitmap == 0\n",
    "        then let\n",
    "            leaf = HashArrayMappedTrieLeaf hash key value\n",
    "            bitmap' = bitmap .|. elemBitmap\n",
    "            children' = take index children <> singleton leaf <> drop index children\n",
    "            in HashArrayMappedTrieNode bitmap' children'\n",
    "        else let\n",
    "            subtree = children ! index\n",
    "            subtree' = insertHashArrayMappedTrieHelper depth' hash key value subtree\n",
    "            children' = children // [(index, subtree')]\n",
    "            in HashArrayMappedTrieNode bitmap children'"
   ]
  },
  {
   "cell_type": "code",
   "execution_count": 26,
   "id": "peripheral-romania",
   "metadata": {},
   "outputs": [],
   "source": [
    "lookupHashArrayMappedTrie :: (Hashable key) => key -> HashArrayMappedTrie key value -> Maybe value\n",
    "lookupHashArrayMappedTrie key = lookupHashArrayMappedTrieHelper 0 (hash key) key\n",
    "\n",
    "lookupHashArrayMappedTrieHelper :: Int -> Hash -> key -> HashArrayMappedTrie key value -> Maybe value\n",
    "lookupHashArrayMappedTrieHelper depth hash key HashArrayMappedTrieNone = Nothing\n",
    "lookupHashArrayMappedTrieHelper depth hash key (HashArrayMappedTrieLeaf leafHash leafKey leafValue)\n",
    "    | hash == leafHash = Just leafValue\n",
    "    | otherwise = Nothing\n",
    "lookupHashArrayMappedTrieHelper depth hash key (HashArrayMappedTrieNode bitmap children) = let\n",
    "    hashFragment = (hash `shiftR` depth) .&. hashMask\n",
    "    elemBitmap = bit (fromIntegral hashFragment)\n",
    "    index = popCount (bitmap .&. (elemBitmap - 1))\n",
    "    depth' = depth + hashFragmentLength\n",
    "    in if elemBitmap .&. bitmap == 0\n",
    "        then Nothing\n",
    "        else lookupHashArrayMappedTrieHelper depth' hash key (children ! index)"
   ]
  },
  {
   "cell_type": "code",
   "execution_count": 27,
   "id": "endangered-intellectual",
   "metadata": {},
   "outputs": [],
   "source": [
    "instance Mapping HashArrayMappedTrie where\n",
    "    empty = emptyHashArrayMappedTrie\n",
    "    insert = insertHashArrayMappedTrie\n",
    "    lookup = lookupHashArrayMappedTrie"
   ]
  },
  {
   "cell_type": "code",
   "execution_count": 28,
   "id": "prime-meeting",
   "metadata": {},
   "outputs": [
    {
     "data": {
      "text/plain": [
       "HashArrayMappedTrieNode\n",
       "  1111111111111111\n",
       "  [ HashArrayMappedTrieNode\n",
       "      0000000000000011\n",
       "      [ HashArrayMappedTrieLeaf 00000000000000000000000000000000 0 1\n",
       "      , HashArrayMappedTrieLeaf 00000000000000000000000000010000 16 1597\n",
       "      ]\n",
       "  , HashArrayMappedTrieNode\n",
       "      0000000000000011\n",
       "      [ HashArrayMappedTrieLeaf 00000000000000000000000000000001 1 1\n",
       "      , HashArrayMappedTrieLeaf 00000000000000000000000000010001 17 2584\n",
       "      ]\n",
       "  , HashArrayMappedTrieNode\n",
       "      0000000000000011\n",
       "      [ HashArrayMappedTrieLeaf 00000000000000000000000000000010 2 2\n",
       "      , HashArrayMappedTrieLeaf 00000000000000000000000000010010 18 4181\n",
       "      ]\n",
       "  , HashArrayMappedTrieNode\n",
       "      0000000000000011\n",
       "      [ HashArrayMappedTrieLeaf 00000000000000000000000000000011 3 3\n",
       "      , HashArrayMappedTrieLeaf 00000000000000000000000000010011 19 6765\n",
       "      ]\n",
       "  , HashArrayMappedTrieNode\n",
       "      0000000000000011\n",
       "      [ HashArrayMappedTrieLeaf 00000000000000000000000000000100 4 5\n",
       "      , HashArrayMappedTrieLeaf 00000000000000000000000000010100 20 10946\n",
       "      ]\n",
       "  , HashArrayMappedTrieNode\n",
       "      0000000000000011\n",
       "      [ HashArrayMappedTrieLeaf 00000000000000000000000000000101 5 8\n",
       "      , HashArrayMappedTrieLeaf 00000000000000000000000000010101 21 17711\n",
       "      ]\n",
       "  , HashArrayMappedTrieNode\n",
       "      0000000000000011\n",
       "      [ HashArrayMappedTrieLeaf 00000000000000000000000000000110 6 13\n",
       "      , HashArrayMappedTrieLeaf 00000000000000000000000000010110 22 28657\n",
       "      ]\n",
       "  , HashArrayMappedTrieNode\n",
       "      0000000000000011\n",
       "      [ HashArrayMappedTrieLeaf 00000000000000000000000000000111 7 21\n",
       "      , HashArrayMappedTrieLeaf 00000000000000000000000000010111 23 46368\n",
       "      ]\n",
       "  , HashArrayMappedTrieNode\n",
       "      0000000000000011\n",
       "      [ HashArrayMappedTrieLeaf 00000000000000000000000000001000 8 34\n",
       "      , HashArrayMappedTrieLeaf 00000000000000000000000000011000 24 75025\n",
       "      ]\n",
       "  , HashArrayMappedTrieNode\n",
       "      0000000000000011\n",
       "      [ HashArrayMappedTrieLeaf 00000000000000000000000000001001 9 55\n",
       "      , HashArrayMappedTrieLeaf\n",
       "          00000000000000000000000000011001 25 121393\n",
       "      ]\n",
       "  , HashArrayMappedTrieNode\n",
       "      0000000000000011\n",
       "      [ HashArrayMappedTrieLeaf 00000000000000000000000000001010 10 89\n",
       "      , HashArrayMappedTrieLeaf\n",
       "          00000000000000000000000000011010 26 196418\n",
       "      ]\n",
       "  , HashArrayMappedTrieNode\n",
       "      0000000000000011\n",
       "      [ HashArrayMappedTrieLeaf 00000000000000000000000000001011 11 144\n",
       "      , HashArrayMappedTrieLeaf\n",
       "          00000000000000000000000000011011 27 317811\n",
       "      ]\n",
       "  , HashArrayMappedTrieNode\n",
       "      0000000000000011\n",
       "      [ HashArrayMappedTrieLeaf 00000000000000000000000000001100 12 233\n",
       "      , HashArrayMappedTrieLeaf\n",
       "          00000000000000000000000000011100 28 514229\n",
       "      ]\n",
       "  , HashArrayMappedTrieNode\n",
       "      0000000000000011\n",
       "      [ HashArrayMappedTrieLeaf 00000000000000000000000000001101 13 377\n",
       "      , HashArrayMappedTrieLeaf\n",
       "          00000000000000000000000000011101 29 832040\n",
       "      ]\n",
       "  , HashArrayMappedTrieNode\n",
       "      0000000000000011\n",
       "      [ HashArrayMappedTrieLeaf 00000000000000000000000000001110 14 610\n",
       "      , HashArrayMappedTrieLeaf\n",
       "          00000000000000000000000000011110 30 1346269\n",
       "      ]\n",
       "  , HashArrayMappedTrieLeaf 00000000000000000000000000001111 15 987\n",
       "  ]"
      ]
     },
     "metadata": {},
     "output_type": "display_data"
    }
   ],
   "source": [
    "pPrint $ snd $ fib' emptyHashArrayMappedTrie 30"
   ]
  }
 ],
 "metadata": {
  "kernelspec": {
   "display_name": "Haskell",
   "language": "haskell",
   "name": "haskell"
  },
  "language_info": {
   "codemirror_mode": "ihaskell",
   "file_extension": ".hs",
   "mimetype": "text/x-haskell",
   "name": "haskell",
   "pygments_lexer": "Haskell",
   "version": "8.10.4"
  }
 },
 "nbformat": 4,
 "nbformat_minor": 5
}
