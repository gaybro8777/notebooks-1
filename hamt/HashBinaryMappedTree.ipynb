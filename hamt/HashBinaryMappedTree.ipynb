{
 "cells": [
  {
   "cell_type": "code",
   "execution_count": 24,
   "id": "outside-alexander",
   "metadata": {},
   "outputs": [],
   "source": [
    "{-# LANGUAGE GeneralizedNewtypeDeriving #-}\n",
    "{-# LANGUAGE TypeSynonymInstances #-}\n",
    "{-# LANGUAGE FlexibleInstances #-}\n",
    "{-# LANGUAGE RankNTypes #-}\n",
    "{-# LANGUAGE BinaryLiterals #-}\n",
    "\n",
    "\n",
    "import Data.Bits             (Bits (bit, complement, popCount, shiftR, (.&.), (.|.), testBit),\n",
    "                              FiniteBits (finiteBitSize))\n",
    "import Data.ByteArray.Hash   (FnvHash32 (..), fnv1Hash)\n",
    "import Data.ByteString.Char8 (pack)\n",
    "import Data.Char             (intToDigit)\n",
    "import Data.Semigroup        ((<>))\n",
    "import Data.Vector           (Vector, drop, singleton, take, (!), (//))\n",
    "import Data.Word             (Word16, Word32)\n",
    "import Numeric               (showIntAtBase)\n",
    "import Prelude               hiding (drop, lookup, take)\n",
    "import System.TimeIt         (timeIt)\n",
    "import Text.Show.Pretty      (pPrint)"
   ]
  },
  {
   "cell_type": "code",
   "execution_count": 25,
   "id": "drawn-spiritual",
   "metadata": {},
   "outputs": [],
   "source": [
    "newtype Binary a = Binary a\n",
    "    deriving (Enum, Ord, Real, Integral, Eq, Num, Bits, FiniteBits)\n",
    "\n",
    "instance (FiniteBits a, Show a, Integral a) => Show (Binary a) where\n",
    "    show (Binary n) = let\n",
    "        str = showIntAtBase 2 intToDigit n \"\"\n",
    "        size = finiteBitSize n\n",
    "        in replicate (size - length str) '0' <> str"
   ]
  },
  {
   "cell_type": "code",
   "execution_count": 26,
   "id": "light-carolina",
   "metadata": {},
   "outputs": [],
   "source": [
    "type Hash = Binary Word16\n",
    "\n",
    "class Hashable a where\n",
    "    hash :: a -> Hash"
   ]
  },
  {
   "cell_type": "code",
   "execution_count": 27,
   "id": "swiss-metro",
   "metadata": {},
   "outputs": [],
   "source": [
    "instance Hashable String where\n",
    "    hash s = let\n",
    "        FnvHash32 h = fnv1Hash (pack s)\n",
    "        in Binary (fromIntegral h)\n",
    "\n",
    "instance Hashable Int where\n",
    "    hash int = Binary (fromIntegral int)"
   ]
  },
  {
   "cell_type": "code",
   "execution_count": 29,
   "id": "innovative-bidder",
   "metadata": {},
   "outputs": [],
   "source": [
    "class Mapping mapping where\n",
    "    empty :: forall k v. mapping k v\n",
    "    lookup :: forall k v. (Hashable k) => k -> mapping k v -> Maybe v\n",
    "    insert :: forall k v. (Hashable k) => k -> v -> mapping k v -> mapping k v"
   ]
  },
  {
   "cell_type": "code",
   "execution_count": 28,
   "id": "active-aberdeen",
   "metadata": {},
   "outputs": [],
   "source": [
    "data HashBinaryMappedTreeData key value = HashBinaryMappedTreeData Hash key value deriving (Eq, Show)\n",
    "\n",
    "data HashBinaryMappedTree key value\n",
    "    = HashBinaryMappedTreeLeaf\n",
    "    | HashBinaryMappedTreeNode\n",
    "        (HashBinaryMappedTree key value)\n",
    "        (Maybe (HashBinaryMappedTreeData key value))\n",
    "        (HashBinaryMappedTree key value)\n",
    "    deriving (Eq, Show)"
   ]
  },
  {
   "cell_type": "code",
   "execution_count": 30,
   "id": "according-sewing",
   "metadata": {},
   "outputs": [],
   "source": [
    "emptyHashBinaryMappedTree = HashBinaryMappedTreeNode\n",
    "    HashBinaryMappedTreeLeaf\n",
    "    Nothing\n",
    "    HashBinaryMappedTreeLeaf"
   ]
  },
  {
   "cell_type": "code",
   "execution_count": 34,
   "id": "lasting-shopping",
   "metadata": {},
   "outputs": [],
   "source": [
    "insertHashBinaryMappedTree :: (Hashable key) => key -> value -> HashBinaryMappedTree key value -> HashBinaryMappedTree key value\n",
    "insertHashBinaryMappedTree key = insertHashBinaryMappedTreeHelper 0 (hash key) key\n",
    "\n",
    "insertHashBinaryMappedTreeHelper :: Int -> Hash -> key -> value -> HashBinaryMappedTree key value -> HashBinaryMappedTree key value\n",
    "insertHashBinaryMappedTreeHelper depth hash key value tree\n",
    "    -- If the remainder of the hash is zero, we update the value at the current node\n",
    "    | hash `shiftR` depth == 0 = case tree of\n",
    "        HashBinaryMappedTreeLeaf -> HashBinaryMappedTreeNode\n",
    "            HashBinaryMappedTreeLeaf\n",
    "            (Just (HashBinaryMappedTreeData hash key value))\n",
    "            HashBinaryMappedTreeLeaf\n",
    "        HashBinaryMappedTreeNode l _ r -> HashBinaryMappedTreeNode\n",
    "            l\n",
    "            (Just (HashBinaryMappedTreeData hash key value))\n",
    "            r\n",
    "    -- Otherwise we go left if the current bit is 0 or right if the current bit is 1 and recursively insert\n",
    "    | otherwise = let\n",
    "        goRight = testBit hash depth\n",
    "        depth' = depth + 1\n",
    "        in case tree of\n",
    "            HashBinaryMappedTreeLeaf -> if goRight\n",
    "                then HashBinaryMappedTreeNode\n",
    "                    HashBinaryMappedTreeLeaf\n",
    "                    Nothing\n",
    "                    (insertHashBinaryMappedTreeHelper depth' hash key value HashBinaryMappedTreeLeaf)\n",
    "                else HashBinaryMappedTreeNode\n",
    "                    (insertHashBinaryMappedTreeHelper depth' hash key value HashBinaryMappedTreeLeaf)\n",
    "                    Nothing\n",
    "                    HashBinaryMappedTreeLeaf\n",
    "            HashBinaryMappedTreeNode l d r -> if goRight\n",
    "                then HashBinaryMappedTreeNode\n",
    "                    l\n",
    "                    d\n",
    "                    (insertHashBinaryMappedTreeHelper depth' hash key value r)\n",
    "                else HashBinaryMappedTreeNode\n",
    "                    (insertHashBinaryMappedTreeHelper depth' hash key value l)\n",
    "                    d\n",
    "                    r"
   ]
  },
  {
   "cell_type": "code",
   "execution_count": 36,
   "id": "tested-closing",
   "metadata": {},
   "outputs": [],
   "source": [
    "lookupHashBinaryMappedTree :: (Hashable key) => key -> HashBinaryMappedTree key value -> Maybe value\n",
    "lookupHashBinaryMappedTree key = lookupHashBinaryMappedTreeHelper 0 (hash key) key\n",
    "\n",
    "lookupHashBinaryMappedTreeHelper :: Int -> Hash -> key -> HashBinaryMappedTree key value -> Maybe value\n",
    "lookupHashBinaryMappedTreeHelper depth hash key tree\n",
    "    -- If the remainder of the hash is zero, we check the value at the current node\n",
    "    | hash `shiftR` depth == 0 = case tree of\n",
    "        HashBinaryMappedTreeLeaf -> Nothing\n",
    "        HashBinaryMappedTreeNode _ d _ -> case d of\n",
    "            Nothing -> Nothing\n",
    "            Just (HashBinaryMappedTreeData dataHash _dataKey dataValue) -> if hash == dataHash\n",
    "                then Just dataValue\n",
    "                else Nothing\n",
    "    -- Otherwise we go left if the current bit is 0 or right if the current bit is 1 and recursively lookup\n",
    "    | otherwise = let\n",
    "        goRight = testBit hash depth\n",
    "        depth' = depth + 1\n",
    "        in case tree of\n",
    "            HashBinaryMappedTreeLeaf -> Nothing\n",
    "            HashBinaryMappedTreeNode l _ r -> if goRight\n",
    "                then lookupHashBinaryMappedTreeHelper depth' hash key r\n",
    "                else lookupHashBinaryMappedTreeHelper depth' hash key l"
   ]
  }
 ],
 "metadata": {
  "kernelspec": {
   "display_name": "Haskell",
   "language": "haskell",
   "name": "haskell"
  },
  "language_info": {
   "codemirror_mode": "ihaskell",
   "file_extension": ".hs",
   "mimetype": "text/x-haskell",
   "name": "haskell",
   "pygments_lexer": "Haskell",
   "version": "8.10.4"
  }
 },
 "nbformat": 4,
 "nbformat_minor": 5
}
