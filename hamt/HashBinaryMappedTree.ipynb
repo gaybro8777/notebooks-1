{
 "cells": [
  {
   "cell_type": "code",
   "execution_count": 1,
   "id": "outside-alexander",
   "metadata": {},
   "outputs": [],
   "source": [
    "import Data.Bits             (Bits (bit, complement, popCount, shiftR, (.&.), (.|.)),\n",
    "                              FiniteBits (finiteBitSize))\n",
    "import Data.ByteArray.Hash   (FnvHash32 (..), fnv1Hash)\n",
    "import Data.ByteString.Char8 (pack)\n",
    "import Data.Char             (intToDigit)\n",
    "import Data.Semigroup        ((<>))\n",
    "import Data.Vector           (Vector, drop, singleton, take, (!), (//))\n",
    "import Data.Word             (Word16, Word32)\n",
    "import Numeric               (showIntAtBase)\n",
    "import Prelude               hiding (drop, lookup, take)\n",
    "import System.TimeIt         (timeIt)\n",
    "import Text.Show.Pretty      (pPrint)"
   ]
  },
  {
   "cell_type": "code",
   "execution_count": 2,
   "id": "drawn-spiritual",
   "metadata": {},
   "outputs": [],
   "source": [
    "{-# LANGUAGE GeneralizedNewtypeDeriving #-}\n",
    "\n",
    "newtype Binary a = Binary a\n",
    "    deriving (Enum, Ord, Real, Integral, Eq, Num, Bits, FiniteBits)\n",
    "\n",
    "instance (FiniteBits a, Show a, Integral a) => Show (Binary a) where\n",
    "    show (Binary n) = let\n",
    "        str = showIntAtBase 2 intToDigit n \"\"\n",
    "        size = finiteBitSize n\n",
    "        in replicate (size - length str) '0' <> str"
   ]
  },
  {
   "cell_type": "code",
   "execution_count": 3,
   "id": "light-carolina",
   "metadata": {},
   "outputs": [],
   "source": [
    "type Hash = Binary Word16\n",
    "\n",
    "class Hashable a where\n",
    "    hash :: a -> Hash"
   ]
  },
  {
   "cell_type": "code",
   "execution_count": 6,
   "id": "swiss-metro",
   "metadata": {},
   "outputs": [
    {
     "data": {
      "text/html": [
       "<style>/* Styles used for the Hoogle display in the pager */\n",
       ".hoogle-doc {\n",
       "display: block;\n",
       "padding-bottom: 1.3em;\n",
       "padding-left: 0.4em;\n",
       "}\n",
       ".hoogle-code {\n",
       "display: block;\n",
       "font-family: monospace;\n",
       "white-space: pre;\n",
       "}\n",
       ".hoogle-text {\n",
       "display: block;\n",
       "}\n",
       ".hoogle-name {\n",
       "color: green;\n",
       "font-weight: bold;\n",
       "}\n",
       ".hoogle-head {\n",
       "font-weight: bold;\n",
       "}\n",
       ".hoogle-sub {\n",
       "display: block;\n",
       "margin-left: 0.4em;\n",
       "}\n",
       ".hoogle-package {\n",
       "font-weight: bold;\n",
       "font-style: italic;\n",
       "}\n",
       ".hoogle-module {\n",
       "font-weight: bold;\n",
       "}\n",
       ".hoogle-class {\n",
       "font-weight: bold;\n",
       "}\n",
       ".get-type {\n",
       "color: green;\n",
       "font-weight: bold;\n",
       "font-family: monospace;\n",
       "display: block;\n",
       "white-space: pre-wrap;\n",
       "}\n",
       ".show-type {\n",
       "color: green;\n",
       "font-weight: bold;\n",
       "font-family: monospace;\n",
       "margin-left: 1em;\n",
       "}\n",
       ".mono {\n",
       "font-family: monospace;\n",
       "display: block;\n",
       "}\n",
       ".err-msg {\n",
       "color: red;\n",
       "font-style: italic;\n",
       "font-family: monospace;\n",
       "white-space: pre;\n",
       "display: block;\n",
       "}\n",
       "#unshowable {\n",
       "color: red;\n",
       "font-weight: bold;\n",
       "}\n",
       ".err-msg.in.collapse {\n",
       "padding-top: 0.7em;\n",
       "}\n",
       ".highlight-code {\n",
       "white-space: pre;\n",
       "font-family: monospace;\n",
       "}\n",
       ".suggestion-warning { \n",
       "font-weight: bold;\n",
       "color: rgb(200, 130, 0);\n",
       "}\n",
       ".suggestion-error { \n",
       "font-weight: bold;\n",
       "color: red;\n",
       "}\n",
       ".suggestion-name {\n",
       "font-weight: bold;\n",
       "}\n",
       "</style><div class=\"suggestion-name\" style=\"clear:both;\">Unused LANGUAGE pragma</div><div class=\"suggestion-row\" style=\"float: left;\"><div class=\"suggestion-warning\">Found:</div><div class=\"highlight-code\" id=\"haskell\">{-# LANGUAGE TypeSynonymInstances #-}</div></div><div class=\"suggestion-row\" style=\"float: left;\"><div class=\"suggestion-warning\">Why Not:</div><div class=\"highlight-code\" id=\"haskell\"></div></div>"
      ],
      "text/plain": [
       "Line 1: Unused LANGUAGE pragma\n",
       "Found:\n",
       "{-# LANGUAGE TypeSynonymInstances #-}\n",
       "Why not:"
      ]
     },
     "metadata": {},
     "output_type": "display_data"
    }
   ],
   "source": [
    "{-# LANGUAGE TypeSynonymInstances #-}\n",
    "{-# LANGUAGE FlexibleInstances #-}\n",
    "\n",
    "instance Hashable String where\n",
    "    hash s = let\n",
    "        FnvHash32 h = fnv1Hash (pack s)\n",
    "        in Binary (fromIntegral h)"
   ]
  },
  {
   "cell_type": "code",
   "execution_count": 5,
   "id": "daily-louisiana",
   "metadata": {},
   "outputs": [],
   "source": [
    "data Bit = O | I deriving (Eq, Show, Ord)\n",
    "\n",
    "data HashBinaryMappedTree key value\n",
    "    = HashBinaryMappedTreeNone\n",
    "    | HashBinaryMappedTreeLeaf Hash key value\n",
    "    | HashBinaryMappedTreeNode\n",
    "        (HashBinaryMappedTree key value)\n",
    "        (HashBinaryMappedTree key value)\n",
    "    deriving (Eq, Show)"
   ]
  },
  {
   "cell_type": "code",
   "execution_count": 9,
   "id": "aerial-pacific",
   "metadata": {},
   "outputs": [
    {
     "data": {
      "text/plain": [
       "10110110111110100111000101100111"
      ]
     },
     "metadata": {},
     "output_type": "display_data"
    }
   ],
   "source": [
    "FnvHash32 h = fnv1Hash (pack \"hello\")\n",
    "Binary h :: Binary Word32"
   ]
  },
  {
   "cell_type": "code",
   "execution_count": 10,
   "id": "inside-corner",
   "metadata": {},
   "outputs": [
    {
     "data": {
      "text/plain": [
       "0111000101100111"
      ]
     },
     "metadata": {},
     "output_type": "display_data"
    }
   ],
   "source": [
    "hash \"hello\""
   ]
  }
 ],
 "metadata": {
  "kernelspec": {
   "display_name": "Haskell",
   "language": "haskell",
   "name": "haskell"
  },
  "language_info": {
   "codemirror_mode": "ihaskell",
   "file_extension": ".hs",
   "mimetype": "text/x-haskell",
   "name": "haskell",
   "pygments_lexer": "Haskell",
   "version": "8.10.4"
  }
 },
 "nbformat": 4,
 "nbformat_minor": 5
}
