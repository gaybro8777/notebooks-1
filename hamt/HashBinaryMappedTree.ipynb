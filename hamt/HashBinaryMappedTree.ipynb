{
 "cells": [
  {
   "cell_type": "code",
   "execution_count": 1,
   "id": "outside-alexander",
   "metadata": {},
   "outputs": [],
   "source": [
    "{-# LANGUAGE GeneralizedNewtypeDeriving #-}\n",
    "{-# LANGUAGE TypeSynonymInstances #-}\n",
    "{-# LANGUAGE FlexibleInstances #-}\n",
    "{-# LANGUAGE RankNTypes #-}\n",
    "{-# LANGUAGE BinaryLiterals #-}\n",
    "\n",
    "\n",
    "import Data.Bits             (Bits (bit, complement, popCount, shiftR, (.&.), (.|.), testBit),\n",
    "                              FiniteBits (finiteBitSize))\n",
    "import Data.ByteArray.Hash   (FnvHash32 (..), fnv1Hash)\n",
    "import Data.ByteString.Char8 (pack)\n",
    "import Data.Char             (intToDigit)\n",
    "import Data.Semigroup        ((<>))\n",
    "import Data.Vector           (Vector, drop, singleton, take, (!), (//))\n",
    "import Data.Word             (Word16, Word32)\n",
    "import Numeric               (showIntAtBase)\n",
    "import Prelude               hiding (drop, lookup, take)\n",
    "import System.TimeIt         (timeIt)\n",
    "import Text.Show.Pretty      (pPrint)"
   ]
  },
  {
   "cell_type": "code",
   "execution_count": 2,
   "id": "drawn-spiritual",
   "metadata": {},
   "outputs": [],
   "source": [
    "newtype Binary a = Binary a\n",
    "    deriving (Enum, Ord, Real, Integral, Eq, Num, Bits, FiniteBits)\n",
    "\n",
    "instance (FiniteBits a, Show a, Integral a) => Show (Binary a) where\n",
    "    show (Binary n) = let\n",
    "        str = showIntAtBase 2 intToDigit n \"\"\n",
    "        size = finiteBitSize n\n",
    "        in replicate (size - length str) '0' <> str"
   ]
  },
  {
   "cell_type": "code",
   "execution_count": 3,
   "id": "light-carolina",
   "metadata": {},
   "outputs": [],
   "source": [
    "type Hash = Binary Word16\n",
    "\n",
    "class Hashable a where\n",
    "    hash :: a -> Hash"
   ]
  },
  {
   "cell_type": "code",
   "execution_count": 4,
   "id": "swiss-metro",
   "metadata": {},
   "outputs": [],
   "source": [
    "instance Hashable String where\n",
    "    hash s = let\n",
    "        FnvHash32 h = fnv1Hash (pack s)\n",
    "        in Binary (fromIntegral h)\n",
    "\n",
    "instance Hashable Int where\n",
    "    hash int = Binary (fromIntegral int)"
   ]
  },
  {
   "cell_type": "code",
   "execution_count": 5,
   "id": "innovative-bidder",
   "metadata": {},
   "outputs": [],
   "source": [
    "class Mapping mapping where\n",
    "    empty :: forall k v. mapping k v\n",
    "    lookup :: forall k v. (Hashable k) => k -> mapping k v -> Maybe v\n",
    "    insert :: forall k v. (Hashable k) => k -> v -> mapping k v -> mapping k v"
   ]
  },
  {
   "cell_type": "code",
   "execution_count": 6,
   "id": "worse-northeast",
   "metadata": {},
   "outputs": [],
   "source": [
    "fib' :: (Mapping m) => m Int Int -> Int -> (Int, m Int Int)\n",
    "fib' table 0 = (1, insert 0 1 table)\n",
    "fib' table 1 = (1, insert 1 1 table)\n",
    "fib' table n = case lookup n table of\n",
    "    Just i -> (i, table)\n",
    "    Nothing -> let\n",
    "        (i1, table')  = fib' table  (n-1)\n",
    "        (i2, table'') = fib' table' (n-2)\n",
    "        in (i1 + i2, insert n (i1 + i2) table'')"
   ]
  },
  {
   "cell_type": "code",
   "execution_count": 7,
   "id": "active-aberdeen",
   "metadata": {},
   "outputs": [],
   "source": [
    "data HashBinaryMappedTrie key value\n",
    "    = HashBinaryMappedTrieNone\n",
    "    | HashBinaryMappedTrieLeaf Hash key value\n",
    "    | HashBinaryMappedTrieNode\n",
    "        (HashBinaryMappedTrie key value)\n",
    "        (HashBinaryMappedTrie key value)\n",
    "    deriving (Eq, Show)"
   ]
  },
  {
   "cell_type": "code",
   "execution_count": 8,
   "id": "according-sewing",
   "metadata": {},
   "outputs": [],
   "source": [
    "emptyHashBinaryMappedTrie = HashBinaryMappedTrieNone"
   ]
  },
  {
   "cell_type": "code",
   "execution_count": 9,
   "id": "lasting-shopping",
   "metadata": {},
   "outputs": [],
   "source": [
    "insertHashBinaryMappedTrie :: (Hashable key) => key -> value -> HashBinaryMappedTrie key value -> HashBinaryMappedTrie key value\n",
    "insertHashBinaryMappedTrie key = insertHashBinaryMappedTrieHelper 0 (hash key) key\n",
    "\n",
    "insertHashBinaryMappedTrieHelper :: Int -> Hash -> key -> value -> HashBinaryMappedTrie key value -> HashBinaryMappedTrie key value\n",
    "insertHashBinaryMappedTrieHelper depth hash key value HashBinaryMappedTrieNone =\n",
    "    HashBinaryMappedTrieLeaf hash key value\n",
    "insertHashBinaryMappedTrieHelper depth hash key value leaf@(HashBinaryMappedTrieLeaf leafHash leafKey leafValue)\n",
    "    | hash == leafHash = HashBinaryMappedTrieLeaf hash key value\n",
    "    | otherwise = let\n",
    "        emptyNode = HashBinaryMappedTrieNode HashBinaryMappedTrieNone HashBinaryMappedTrieNone\n",
    "        leafInsertedNode = insertHashBinaryMappedTrieHelper depth leafHash leafKey leafValue emptyNode\n",
    "        in insertHashBinaryMappedTrieHelper depth hash key value leafInsertedNode\n",
    "insertHashBinaryMappedTrieHelper depth hash key value (HashBinaryMappedTrieNode left right) = let\n",
    "    goRight = testBit hash depth\n",
    "    depth' = depth + 1\n",
    "    in if goRight\n",
    "        then HashBinaryMappedTrieNode left (insertHashBinaryMappedTrieHelper depth' hash key value right)\n",
    "        else HashBinaryMappedTrieNode (insertHashBinaryMappedTrieHelper depth' hash key value left) right\n"
   ]
  },
  {
   "cell_type": "code",
   "execution_count": 10,
   "id": "sought-moldova",
   "metadata": {},
   "outputs": [],
   "source": [
    "lookupHashBinaryMappedTrie :: (Hashable key) => key -> HashBinaryMappedTrie key value -> Maybe value\n",
    "lookupHashBinaryMappedTrie key = lookupHashBinaryMappedTrieHelper 0 (hash key) key\n",
    "\n",
    "lookupHashBinaryMappedTrieHelper :: Int -> Hash -> key -> HashBinaryMappedTrie key value -> Maybe value\n",
    "lookupHashBinaryMappedTrieHelper depth hash key HashBinaryMappedTrieNone = Nothing\n",
    "lookupHashBinaryMappedTrieHelper depth hash key (HashBinaryMappedTrieLeaf leafHash leafKey leafValue)\n",
    "    | hash == leafHash = Just leafValue\n",
    "    | otherwise = Nothing\n",
    "lookupHashBinaryMappedTrieHelper depth hash key (HashBinaryMappedTrieNode left right) = let\n",
    "    goRight = testBit hash depth\n",
    "    depth' = depth + 1\n",
    "    in if goRight\n",
    "        then lookupHashBinaryMappedTrieHelper depth' hash key right\n",
    "        else lookupHashBinaryMappedTrieHelper depth' hash key left"
   ]
  },
  {
   "cell_type": "code",
   "execution_count": 11,
   "id": "compressed-xerox",
   "metadata": {},
   "outputs": [],
   "source": [
    "instance Mapping HashBinaryMappedTrie where\n",
    "    empty = emptyHashBinaryMappedTrie\n",
    "    insert = insertHashBinaryMappedTrie\n",
    "    lookup = lookupHashBinaryMappedTrie"
   ]
  }
 ],
 "metadata": {
  "kernelspec": {
   "display_name": "Haskell",
   "language": "haskell",
   "name": "haskell"
  },
  "language_info": {
   "codemirror_mode": "ihaskell",
   "file_extension": ".hs",
   "mimetype": "text/x-haskell",
   "name": "haskell",
   "pygments_lexer": "Haskell",
   "version": "8.10.4"
  }
 },
 "nbformat": 4,
 "nbformat_minor": 5
}
