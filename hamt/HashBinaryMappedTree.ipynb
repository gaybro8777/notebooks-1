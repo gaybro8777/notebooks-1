{
 "cells": [
  {
   "cell_type": "code",
   "execution_count": 9,
   "id": "outside-alexander",
   "metadata": {},
   "outputs": [],
   "source": [
    "{-# LANGUAGE GeneralizedNewtypeDeriving #-}\n",
    "{-# LANGUAGE TypeSynonymInstances #-}\n",
    "{-# LANGUAGE FlexibleInstances #-}\n",
    "{-# LANGUAGE RankNTypes #-}\n",
    "\n",
    "import Data.Bits             (Bits (bit, complement, popCount, shiftR, (.&.), (.|.)),\n",
    "                              FiniteBits (finiteBitSize))\n",
    "import Data.ByteArray.Hash   (FnvHash32 (..), fnv1Hash)\n",
    "import Data.ByteString.Char8 (pack)\n",
    "import Data.Char             (intToDigit)\n",
    "import Data.Semigroup        ((<>))\n",
    "import Data.Vector           (Vector, drop, singleton, take, (!), (//))\n",
    "import Data.Word             (Word16, Word32)\n",
    "import Numeric               (showIntAtBase)\n",
    "import Prelude               hiding (drop, lookup, take)\n",
    "import System.TimeIt         (timeIt)\n",
    "import Text.Show.Pretty      (pPrint)"
   ]
  },
  {
   "cell_type": "code",
   "execution_count": 10,
   "id": "drawn-spiritual",
   "metadata": {},
   "outputs": [],
   "source": [
    "newtype Binary a = Binary a\n",
    "    deriving (Enum, Ord, Real, Integral, Eq, Num, Bits, FiniteBits)\n",
    "\n",
    "instance (FiniteBits a, Show a, Integral a) => Show (Binary a) where\n",
    "    show (Binary n) = let\n",
    "        str = showIntAtBase 2 intToDigit n \"\"\n",
    "        size = finiteBitSize n\n",
    "        in replicate (size - length str) '0' <> str"
   ]
  },
  {
   "cell_type": "code",
   "execution_count": 11,
   "id": "light-carolina",
   "metadata": {},
   "outputs": [],
   "source": [
    "type Hash = Binary Word16\n",
    "\n",
    "class Hashable a where\n",
    "    hash :: a -> Hash"
   ]
  },
  {
   "cell_type": "code",
   "execution_count": 12,
   "id": "swiss-metro",
   "metadata": {},
   "outputs": [],
   "source": [
    "instance Hashable String where\n",
    "    hash s = let\n",
    "        FnvHash32 h = fnv1Hash (pack s)\n",
    "        in Binary (fromIntegral h)"
   ]
  },
  {
   "cell_type": "code",
   "execution_count": 13,
   "id": "active-aberdeen",
   "metadata": {},
   "outputs": [],
   "source": [
    "data HashBinaryMappedTreeData key value = HashBinaryMappedTreeData Hash key value deriving (Eq, Show)\n",
    "\n",
    "data HashBinaryMappedTree key value\n",
    "    = HashBinaryMappedTreeLeaf\n",
    "    | HashBinaryMappedTreeNode\n",
    "        (HashBinaryMappedTree key value)\n",
    "        (Maybe (HashBinaryMappedTreeData key value))\n",
    "        (HashBinaryMappedTree key value)\n",
    "    deriving (Eq, Show)"
   ]
  },
  {
   "cell_type": "code",
   "execution_count": 14,
   "id": "innovative-bidder",
   "metadata": {},
   "outputs": [],
   "source": [
    "class Mapping mapping where\n",
    "    empty :: forall k v. mapping k v\n",
    "    lookup :: forall k v. k -> mapping k v -> Maybe v\n",
    "    insert :: forall k v. k -> v -> mapping k v -> mapping k v"
   ]
  },
  {
   "cell_type": "code",
   "execution_count": 15,
   "id": "according-sewing",
   "metadata": {},
   "outputs": [],
   "source": [
    "emptyHashBinaryMappedTree = HashBinaryMappedTreeNode\n",
    "    HashBinaryMappedTreeLeaf\n",
    "    Nothing\n",
    "    HashBinaryMappedTreeLeaf"
   ]
  },
  {
   "cell_type": "code",
   "execution_count": 16,
   "id": "lasting-shopping",
   "metadata": {},
   "outputs": [
    {
     "ename": "",
     "evalue": "",
     "output_type": "error",
     "traceback": [
      "Parse error (line 10, column 54): parse error (possibly incorrect indentation or mismatched brackets)"
     ]
    }
   ],
   "source": [
    "insertHashBinaryMappedTree :: Hash -> key -> value -> HashBinaryMappedTree key value -> HashBinaryMappedTree key value\n",
    "insertHashBinaryMappedTree hash key value HashBinaryMappedTreeLeaf = HashBinaryMappedTreeNode\n",
    "    HashBinaryMappedTreeLeaf\n",
    "    (Just (HashBinaryMappedTreeData hash key value))\n",
    "    HashBinaryMappedTreeLeaf\n",
    "insertHashBinaryMappedTree hash key value leaf@(HashBinaryMappedTreeLeaf leafHash leafKey leafValue)\n",
    "    | hash == leafHash = HashBinaryMappedTreeLeaf hash key value\n",
    "    | otherwise = let\n",
    "        newRootNode = HashBinaryMappedTreeNode HashBinaryMappedTreeNone HashBinaryMappedTreeNone\n",
    "        insertedExisting = insertHashBinaryMappedTree"
   ]
  },
  {
   "cell_type": "code",
   "execution_count": 17,
   "id": "naval-target",
   "metadata": {},
   "outputs": [],
   "source": [
    ":r"
   ]
  }
 ],
 "metadata": {
  "kernelspec": {
   "display_name": "Haskell",
   "language": "haskell",
   "name": "haskell"
  },
  "language_info": {
   "codemirror_mode": "ihaskell",
   "file_extension": ".hs",
   "mimetype": "text/x-haskell",
   "name": "haskell",
   "pygments_lexer": "Haskell",
   "version": "8.10.4"
  }
 },
 "nbformat": 4,
 "nbformat_minor": 5
}
