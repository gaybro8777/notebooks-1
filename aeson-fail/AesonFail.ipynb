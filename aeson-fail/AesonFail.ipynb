{
 "cells": [
  {
   "cell_type": "code",
   "execution_count": 1,
   "metadata": {},
   "outputs": [],
   "source": [
    "{-# LANGUAGE OverloadedStrings #-}\n",
    "{-# LANGUAGE DeriveGeneric #-}\n",
    "{-# LANGUAGE GeneralizedNewtypeDeriving #-}"
   ]
  },
  {
   "cell_type": "code",
   "execution_count": 2,
   "metadata": {},
   "outputs": [],
   "source": [
    "import Data.Aeson\n",
    "import Data.Aeson.Types\n",
    "import Control.Applicative (Alternative(..))\n",
    "import qualified Data.ByteString.Lazy as BSL"
   ]
  },
  {
   "cell_type": "code",
   "execution_count": 3,
   "metadata": {},
   "outputs": [],
   "source": [
    "data Fruit = Apple Int | Orange String deriving (Eq, Show)\n",
    "\n",
    "instance FromJSON Fruit where\n",
    "    parseJSON o@(Object v) = do\n",
    "        appleM <- v .:? \"apple\"\n",
    "        orangeM <- v .:? \"orange\"\n",
    "        case (appleM, orangeM) of\n",
    "            (Just apple, _) -> pure $ Apple apple\n",
    "            (_, Just orange) -> pure $ Orange orange \n",
    "            _ -> fail \"neither apple nor orange\" o\n",
    "    parseJSON invalid = typeMismatch \"Fruit\" invalid"
   ]
  },
  {
   "cell_type": "code",
   "execution_count": 4,
   "metadata": {},
   "outputs": [],
   "source": [
    "newtype Carrot = Carrot [Int] deriving (Eq, Show, FromJSON, ToJSON)\n",
    "\n",
    "newtype CarrotContainer = CarrotContainer Carrot deriving (Eq, Show)\n",
    "\n",
    "instance FromJSON CarrotContainer where\n",
    "    parseJSON = withObject \"CarrotContainer\" $ \\o ->\n",
    "        CarrotContainer <$> o .: \"carrot\""
   ]
  },
  {
   "cell_type": "code",
   "execution_count": 5,
   "metadata": {},
   "outputs": [],
   "source": [
    "newtype FruitOrVeg = FruitOrVeg (Either Fruit Carrot) deriving (Eq, Show)\n",
    "\n",
    "instance FromJSON FruitOrVeg where\n",
    "    parseJSON = withObject \"FruitOrVeg\" $ \\o ->\n",
    "        FruitOrVeg <$> ((Left <$> parseJSON (Object o)) <|> (Right <$> o .: \"carrot\"))"
   ]
  },
  {
   "cell_type": "code",
   "execution_count": 6,
   "metadata": {},
   "outputs": [],
   "source": [
    "orange <- BSL.readFile \"./orange.json\"\n",
    "carrot <- BSL.readFile \"./carrot.json\""
   ]
  },
  {
   "cell_type": "code",
   "execution_count": 7,
   "metadata": {},
   "outputs": [
    {
     "data": {
      "text/plain": [
       "Right (FruitOrVeg (Left (Orange \"orange\")))"
      ]
     },
     "metadata": {},
     "output_type": "display_data"
    }
   ],
   "source": [
    "eitherDecode orange :: Either String FruitOrVeg"
   ]
  },
  {
   "cell_type": "code",
   "execution_count": 8,
   "metadata": {},
   "outputs": [
    {
     "data": {
      "text/plain": [
       "Right (CarrotContainer (Carrot [1,2,3]))"
      ]
     },
     "metadata": {},
     "output_type": "display_data"
    }
   ],
   "source": [
    "eitherDecode carrot :: Either String CarrotContainer"
   ]
  },
  {
   "cell_type": "code",
   "execution_count": 9,
   "metadata": {},
   "outputs": [
    {
     "ename": "",
     "evalue": "",
     "output_type": "error",
     "traceback": [
      "neither apple nor orange"
     ]
    }
   ],
   "source": [
    "eitherDecode carrot :: Either String FruitOrVeg"
   ]
  },
  {
   "cell_type": "code",
   "execution_count": 10,
   "metadata": {},
   "outputs": [],
   "source": [
    "newtype FixedFruit = FixedFruit Fruit deriving (Eq, Show)\n",
    "\n",
    "instance FromJSON FixedFruit where\n",
    "    parseJSON o@(Object v) = do\n",
    "        appleM <- v .:? \"apple\"\n",
    "        orangeM <- v .:? \"orange\"\n",
    "        case (appleM, orangeM) of\n",
    "            (Just apple, _) -> pure . FixedFruit $ Apple apple\n",
    "            (_, Just orange) -> pure . FixedFruit $ Orange orange \n",
    "            _ -> fail \"neither apple nor orange\""
   ]
  },
  {
   "cell_type": "code",
   "execution_count": 11,
   "metadata": {},
   "outputs": [],
   "source": [
    "newtype FixedFruitOrVeg = FixedFruitOrVeg (Either FixedFruit Carrot) deriving (Eq, Show)\n",
    "\n",
    "instance FromJSON FixedFruitOrVeg where\n",
    "    parseJSON = withObject \"FruitOrVeg\" $ \\o ->\n",
    "        FixedFruitOrVeg <$> ((Left <$> parseJSON (Object o)) <|> (Right <$> o .: \"carrot\"))"
   ]
  },
  {
   "cell_type": "code",
   "execution_count": 12,
   "metadata": {},
   "outputs": [
    {
     "data": {
      "text/plain": [
       "Right (FixedFruitOrVeg (Right (Carrot [1,2,3])))"
      ]
     },
     "metadata": {},
     "output_type": "display_data"
    }
   ],
   "source": [
    "eitherDecode carrot :: Either String FixedFruitOrVeg"
   ]
  }
 ],
 "metadata": {
  "kernelspec": {
   "display_name": "Haskell",
   "language": "haskell",
   "name": "haskell"
  },
  "language_info": {
   "codemirror_mode": "ihaskell",
   "file_extension": ".hs",
   "mimetype": "text/x-haskell",
   "name": "haskell",
   "pygments_lexer": "Haskell",
   "version": "8.4.4"
  }
 },
 "nbformat": 4,
 "nbformat_minor": 5
}
