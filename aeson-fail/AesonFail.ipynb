{
 "cells": [
  {
   "cell_type": "code",
   "execution_count": 1,
   "metadata": {},
   "outputs": [
    {
     "data": {
      "text/html": [
       "<style>/* Styles used for the Hoogle display in the pager */\n",
       ".hoogle-doc {\n",
       "display: block;\n",
       "padding-bottom: 1.3em;\n",
       "padding-left: 0.4em;\n",
       "}\n",
       ".hoogle-code {\n",
       "display: block;\n",
       "font-family: monospace;\n",
       "white-space: pre;\n",
       "}\n",
       ".hoogle-text {\n",
       "display: block;\n",
       "}\n",
       ".hoogle-name {\n",
       "color: green;\n",
       "font-weight: bold;\n",
       "}\n",
       ".hoogle-head {\n",
       "font-weight: bold;\n",
       "}\n",
       ".hoogle-sub {\n",
       "display: block;\n",
       "margin-left: 0.4em;\n",
       "}\n",
       ".hoogle-package {\n",
       "font-weight: bold;\n",
       "font-style: italic;\n",
       "}\n",
       ".hoogle-module {\n",
       "font-weight: bold;\n",
       "}\n",
       ".hoogle-class {\n",
       "font-weight: bold;\n",
       "}\n",
       ".get-type {\n",
       "color: green;\n",
       "font-weight: bold;\n",
       "font-family: monospace;\n",
       "display: block;\n",
       "white-space: pre-wrap;\n",
       "}\n",
       ".show-type {\n",
       "color: green;\n",
       "font-weight: bold;\n",
       "font-family: monospace;\n",
       "margin-left: 1em;\n",
       "}\n",
       ".mono {\n",
       "font-family: monospace;\n",
       "display: block;\n",
       "}\n",
       ".err-msg {\n",
       "color: red;\n",
       "font-style: italic;\n",
       "font-family: monospace;\n",
       "white-space: pre;\n",
       "display: block;\n",
       "}\n",
       "#unshowable {\n",
       "color: red;\n",
       "font-weight: bold;\n",
       "}\n",
       ".err-msg.in.collapse {\n",
       "padding-top: 0.7em;\n",
       "}\n",
       ".highlight-code {\n",
       "white-space: pre;\n",
       "font-family: monospace;\n",
       "}\n",
       ".suggestion-warning { \n",
       "font-weight: bold;\n",
       "color: rgb(200, 130, 0);\n",
       "}\n",
       ".suggestion-error { \n",
       "font-weight: bold;\n",
       "color: red;\n",
       "}\n",
       ".suggestion-name {\n",
       "font-weight: bold;\n",
       "}\n",
       "</style><div class=\"suggestion-name\" style=\"clear:both;\">Unused LANGUAGE pragma</div><div class=\"suggestion-row\" style=\"float: left;\"><div class=\"suggestion-warning\">Found:</div><div class=\"highlight-code\" id=\"haskell\">{-# LANGUAGE OverloadedStrings #-}</div></div><div class=\"suggestion-row\" style=\"float: left;\"><div class=\"suggestion-warning\">Why Not:</div><div class=\"highlight-code\" id=\"haskell\"></div></div><div class=\"suggestion-name\" style=\"clear:both;\">Unused LANGUAGE pragma</div><div class=\"suggestion-row\" style=\"float: left;\"><div class=\"suggestion-warning\">Found:</div><div class=\"highlight-code\" id=\"haskell\">{-# LANGUAGE DeriveGeneric #-}</div></div><div class=\"suggestion-row\" style=\"float: left;\"><div class=\"suggestion-warning\">Why Not:</div><div class=\"highlight-code\" id=\"haskell\"></div></div><div class=\"suggestion-name\" style=\"clear:both;\">Unused LANGUAGE pragma</div><div class=\"suggestion-row\" style=\"float: left;\"><div class=\"suggestion-warning\">Found:</div><div class=\"highlight-code\" id=\"haskell\">{-# LANGUAGE GeneralizedNewtypeDeriving #-}</div></div><div class=\"suggestion-row\" style=\"float: left;\"><div class=\"suggestion-warning\">Why Not:</div><div class=\"highlight-code\" id=\"haskell\"></div></div>"
      ],
      "text/plain": [
       "Line 1: Unused LANGUAGE pragma\n",
       "Found:\n",
       "{-# LANGUAGE OverloadedStrings #-}\n",
       "Why not:\n",
       "Line 2: Unused LANGUAGE pragma\n",
       "Found:\n",
       "{-# LANGUAGE DeriveGeneric #-}\n",
       "Why not:\n",
       "Line 3: Unused LANGUAGE pragma\n",
       "Found:\n",
       "{-# LANGUAGE GeneralizedNewtypeDeriving #-}\n",
       "Why not:"
      ]
     },
     "metadata": {},
     "output_type": "display_data"
    }
   ],
   "source": [
    "{-# LANGUAGE OverloadedStrings #-}\n",
    "{-# LANGUAGE DeriveGeneric #-}\n",
    "{-# LANGUAGE GeneralizedNewtypeDeriving #-}"
   ]
  },
  {
   "cell_type": "code",
   "execution_count": 2,
   "metadata": {},
   "outputs": [],
   "source": [
    "import Data.Aeson\n",
    "import Data.Aeson.Types\n",
    "import Control.Applicative (Alternative(..))\n",
    "import qualified Data.ByteString.Lazy as BSL"
   ]
  },
  {
   "cell_type": "code",
   "execution_count": 3,
   "metadata": {},
   "outputs": [],
   "source": [
    "data Fruit = Apple Int | Orange String deriving (Eq, Show)\n",
    "\n",
    "instance FromJSON Fruit where\n",
    "    parseJSON o@(Object v) = do\n",
    "        appleM <- v .:? \"apple\"\n",
    "        orangeM <- v .:? \"orange\"\n",
    "        case (appleM, orangeM) of\n",
    "            (Just apple, _) -> pure $ Apple apple\n",
    "            (_, Just orange) -> pure $ Orange orange \n",
    "            _ -> fail \"neither apple nor orange\" o\n",
    "    parseJSON invalid = typeMismatch \"Fruit\" invalid"
   ]
  },
  {
   "cell_type": "code",
   "execution_count": 4,
   "metadata": {},
   "outputs": [],
   "source": [
    "newtype Carrot = Carrot [Int] deriving (Eq, Show, FromJSON, ToJSON)\n",
    "\n",
    "newtype CarrotContainer = CarrotContainer Carrot deriving (Eq, Show)\n",
    "\n",
    "instance FromJSON CarrotContainer where\n",
    "    parseJSON = withObject \"CarrotContainer\" $ \\o ->\n",
    "        CarrotContainer <$> o .: \"carrot\""
   ]
  },
  {
   "cell_type": "code",
   "execution_count": 5,
   "metadata": {},
   "outputs": [],
   "source": [
    "newtype FruitOrVeg = FruitOrVeg (Either Fruit Carrot) deriving (Eq, Show)\n",
    "\n",
    "instance FromJSON FruitOrVeg where\n",
    "    parseJSON = withObject \"FruitOrVeg\" $ \\o ->\n",
    "        FruitOrVeg <$> ((Left <$> parseJSON (Object o)) <|> (Right <$> o .: \"carrot\"))"
   ]
  },
  {
   "cell_type": "code",
   "execution_count": 6,
   "metadata": {},
   "outputs": [],
   "source": [
    "orange <- BSL.readFile \"./orange.json\"\n",
    "carrot <- BSL.readFile \"./carrot.json\""
   ]
  },
  {
   "cell_type": "code",
   "execution_count": 7,
   "metadata": {},
   "outputs": [
    {
     "data": {
      "text/plain": [
       "Right (FruitOrVeg (Left (Orange \"orange\")))"
      ]
     },
     "metadata": {},
     "output_type": "display_data"
    }
   ],
   "source": [
    "eitherDecode orange :: Either String FruitOrVeg"
   ]
  },
  {
   "cell_type": "code",
   "execution_count": 8,
   "metadata": {},
   "outputs": [
    {
     "data": {
      "text/plain": [
       "Right (CarrotContainer (Carrot [1,2,3]))"
      ]
     },
     "metadata": {},
     "output_type": "display_data"
    }
   ],
   "source": [
    "eitherDecode carrot :: Either String CarrotContainer"
   ]
  },
  {
   "cell_type": "code",
   "execution_count": 9,
   "metadata": {},
   "outputs": [
    {
     "ename": "",
     "evalue": "",
     "output_type": "error",
     "traceback": [
      "neither apple nor orange"
     ]
    }
   ],
   "source": [
    "eitherDecode carrot :: Either String FruitOrVeg"
   ]
  },
  {
   "cell_type": "code",
   "execution_count": 10,
   "metadata": {},
   "outputs": [],
   "source": [
    "newtype FixedFruit = FixedFruit Fruit deriving (Eq, Show)\n",
    "\n",
    "instance FromJSON FixedFruit where\n",
    "    parseJSON o@(Object v) = do\n",
    "        appleM <- v .:? \"apple\"\n",
    "        orangeM <- v .:? \"orange\"\n",
    "        case (appleM, orangeM) of\n",
    "            (Just apple, _) -> pure . FixedFruit $ Apple apple\n",
    "            (_, Just orange) -> pure . FixedFruit $ Orange orange \n",
    "            _ -> fail \"neither apple nor orange\""
   ]
  },
  {
   "cell_type": "code",
   "execution_count": 11,
   "metadata": {},
   "outputs": [],
   "source": [
    "newtype FixedFruitOrVeg = FixedFruitOrVeg (Either FixedFruit Carrot) deriving (Eq, Show)\n",
    "\n",
    "instance FromJSON FixedFruitOrVeg where\n",
    "    parseJSON = withObject \"FruitOrVeg\" $ \\o ->\n",
    "        FixedFruitOrVeg <$> ((Left <$> parseJSON (Object o)) <|> (Right <$> o .: \"carrot\"))"
   ]
  },
  {
   "cell_type": "code",
   "execution_count": 12,
   "metadata": {},
   "outputs": [
    {
     "data": {
      "text/plain": [
       "Right (FixedFruitOrVeg (Right (Carrot [1,2,3])))"
      ]
     },
     "metadata": {},
     "output_type": "display_data"
    }
   ],
   "source": [
    "eitherDecode carrot :: Either String FixedFruitOrVeg"
   ]
  }
 ],
 "metadata": {
  "kernelspec": {
   "display_name": "Haskell",
   "language": "haskell",
   "name": "haskell"
  },
  "language_info": {
   "codemirror_mode": "ihaskell",
   "file_extension": ".hs",
   "mimetype": "text/x-haskell",
   "name": "haskell",
   "pygments_lexer": "Haskell",
   "version": "8.6.5"
  }
 },
 "nbformat": 4,
 "nbformat_minor": 5
}
